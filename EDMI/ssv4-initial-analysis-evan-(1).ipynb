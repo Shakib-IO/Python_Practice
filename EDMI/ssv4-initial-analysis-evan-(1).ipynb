{
 "cells": [
  {
   "cell_type": "code",
   "execution_count": 2,
   "metadata": {},
   "outputs": [],
   "source": [
    "import pandas as pd\n",
    "import datetime as dt"
   ]
  },
  {
   "cell_type": "code",
   "execution_count": 3,
   "metadata": {},
   "outputs": [
    {
     "name": "stderr",
     "output_type": "stream",
     "text": [
      "c:\\Users\\evan\\development\\eda\\venv\\lib\\site-packages\\openpyxl\\styles\\stylesheet.py:226: UserWarning: Workbook contains no default style, apply openpyxl's default\n",
      "  warn(\"Workbook contains no default style, apply openpyxl's default\")\n"
     ]
    }
   ],
   "source": [
    "dfy = pd.read_csv(\"./data/y.csv\", index_col=0)\n",
    "dfx = pd.read_excel(\"./data/compsaa_file2_20200701_20201231.xlsx\").loc[lambda d: d.total_comment_num.notnull()]\n"
   ]
  },
  {
   "cell_type": "code",
   "execution_count": 4,
   "metadata": {},
   "outputs": [],
   "source": [
    "convert_y_dates = lambda st: dt.datetime.strptime(st, \"%Y-%m-%d\")\n",
    "convert_x_dates = lambda i: dt.datetime.strptime( str(i), \"%Y%m%d.0\")"
   ]
  },
  {
   "cell_type": "code",
   "execution_count": 5,
   "metadata": {},
   "outputs": [],
   "source": [
    "dfx = dfx.assign(date_joiner=lambda d: d.date_key.apply(convert_x_dates))\n",
    "dfy = dfy.assign(date_joiner=lambda d: d.date_time.apply(convert_y_dates))"
   ]
  },
  {
   "cell_type": "code",
   "execution_count": 6,
   "metadata": {},
   "outputs": [
    {
     "data": {
      "text/html": [
       "<div>\n",
       "<style scoped>\n",
       "    .dataframe tbody tr th:only-of-type {\n",
       "        vertical-align: middle;\n",
       "    }\n",
       "\n",
       "    .dataframe tbody tr th {\n",
       "        vertical-align: top;\n",
       "    }\n",
       "\n",
       "    .dataframe thead th {\n",
       "        text-align: right;\n",
       "    }\n",
       "</style>\n",
       "<table border=\"1\" class=\"dataframe\">\n",
       "  <thead>\n",
       "    <tr style=\"text-align: right;\">\n",
       "      <th></th>\n",
       "      <th>date_time</th>\n",
       "      <th>product_name</th>\n",
       "      <th>sku</th>\n",
       "      <th>brand</th>\n",
       "      <th>deal_num</th>\n",
       "      <th>to_cart_num</th>\n",
       "      <th>date_joiner</th>\n",
       "    </tr>\n",
       "  </thead>\n",
       "  <tbody>\n",
       "    <tr>\n",
       "      <th>0</th>\n",
       "      <td>2020-01-01</td>\n",
       "      <td>美素佳儿（Friso）儿童配方奶粉 4段（3岁以上至6岁适用）900克（荷兰原装进口）</td>\n",
       "      <td>100004774814</td>\n",
       "      <td>美素佳儿（Friso）</td>\n",
       "      <td>0</td>\n",
       "      <td>4</td>\n",
       "      <td>2020-01-01</td>\n",
       "    </tr>\n",
       "    <tr>\n",
       "      <th>1</th>\n",
       "      <td>2020-01-01</td>\n",
       "      <td>美素佳儿（Friso Prestige）皇家儿童配方奶粉 4段（3岁以上至6岁适用） 800...</td>\n",
       "      <td>100006224968</td>\n",
       "      <td>美素佳儿（Friso）</td>\n",
       "      <td>0</td>\n",
       "      <td>3</td>\n",
       "      <td>2020-01-01</td>\n",
       "    </tr>\n",
       "    <tr>\n",
       "      <th>2</th>\n",
       "      <td>2020-01-01</td>\n",
       "      <td>美素力（Frisolac Prestige）皇家婴儿配方奶粉 1段（0-6个月婴儿适用） 4...</td>\n",
       "      <td>100007187818</td>\n",
       "      <td>美素佳儿（Friso）</td>\n",
       "      <td>0</td>\n",
       "      <td>3</td>\n",
       "      <td>2020-01-01</td>\n",
       "    </tr>\n",
       "    <tr>\n",
       "      <th>3</th>\n",
       "      <td>2020-01-01</td>\n",
       "      <td>美素佳儿（Friso）较大婴儿配方奶粉 2段（6-12个月婴幼儿适用）1200克（荷兰原装进口）</td>\n",
       "      <td>100004188413</td>\n",
       "      <td>美素佳儿（Friso）</td>\n",
       "      <td>0</td>\n",
       "      <td>5</td>\n",
       "      <td>2020-01-01</td>\n",
       "    </tr>\n",
       "    <tr>\n",
       "      <th>4</th>\n",
       "      <td>2020-01-01</td>\n",
       "      <td>美素佳儿（Friso）幼儿配方奶粉 3段（1-3岁幼儿适用）900克（新客礼）</td>\n",
       "      <td>100003754072</td>\n",
       "      <td>美素佳儿（Friso）</td>\n",
       "      <td>0</td>\n",
       "      <td>2</td>\n",
       "      <td>2020-01-01</td>\n",
       "    </tr>\n",
       "  </tbody>\n",
       "</table>\n",
       "</div>"
      ],
      "text/plain": [
       "    date_time                                       product_name  \\\n",
       "0  2020-01-01        美素佳儿（Friso）儿童配方奶粉 4段（3岁以上至6岁适用）900克（荷兰原装进口）   \n",
       "1  2020-01-01  美素佳儿（Friso Prestige）皇家儿童配方奶粉 4段（3岁以上至6岁适用） 800...   \n",
       "2  2020-01-01  美素力（Frisolac Prestige）皇家婴儿配方奶粉 1段（0-6个月婴儿适用） 4...   \n",
       "3  2020-01-01   美素佳儿（Friso）较大婴儿配方奶粉 2段（6-12个月婴幼儿适用）1200克（荷兰原装进口）   \n",
       "4  2020-01-01            美素佳儿（Friso）幼儿配方奶粉 3段（1-3岁幼儿适用）900克（新客礼）   \n",
       "\n",
       "            sku        brand  deal_num  to_cart_num date_joiner  \n",
       "0  100004774814  美素佳儿（Friso）         0            4  2020-01-01  \n",
       "1  100006224968  美素佳儿（Friso）         0            3  2020-01-01  \n",
       "2  100007187818  美素佳儿（Friso）         0            3  2020-01-01  \n",
       "3  100004188413  美素佳儿（Friso）         0            5  2020-01-01  \n",
       "4  100003754072  美素佳儿（Friso）         0            2  2020-01-01  "
      ]
     },
     "execution_count": 6,
     "metadata": {},
     "output_type": "execute_result"
    }
   ],
   "source": [
    "dfy.head()"
   ]
  },
  {
   "cell_type": "code",
   "execution_count": 7,
   "metadata": {},
   "outputs": [
    {
     "data": {
      "text/html": [
       "<div>\n",
       "<style scoped>\n",
       "    .dataframe tbody tr th:only-of-type {\n",
       "        vertical-align: middle;\n",
       "    }\n",
       "\n",
       "    .dataframe tbody tr th {\n",
       "        vertical-align: top;\n",
       "    }\n",
       "\n",
       "    .dataframe thead th {\n",
       "        text-align: right;\n",
       "    }\n",
       "</style>\n",
       "<table border=\"1\" class=\"dataframe\">\n",
       "  <thead>\n",
       "    <tr style=\"text-align: right;\">\n",
       "      <th></th>\n",
       "      <th>sku</th>\n",
       "      <th>product_name</th>\n",
       "      <th>monthly_sales_qty</th>\n",
       "      <th>total_sales_qty</th>\n",
       "      <th>total_comment_num</th>\n",
       "      <th>date_key</th>\n",
       "      <th>date_joiner</th>\n",
       "    </tr>\n",
       "  </thead>\n",
       "  <tbody>\n",
       "    <tr>\n",
       "      <th>0</th>\n",
       "      <td>100021558806</td>\n",
       "      <td>爱尔兰原装进口 爱他美（Aptamil）英国HMO较大婴儿配方奶粉2段（6-12个月）易乐罐...</td>\n",
       "      <td>NaN</td>\n",
       "      <td>NaN</td>\n",
       "      <td>7.0</td>\n",
       "      <td>20211005.0</td>\n",
       "      <td>2021-10-05</td>\n",
       "    </tr>\n",
       "    <tr>\n",
       "      <th>1</th>\n",
       "      <td>10022644635456</td>\n",
       "      <td>【现货】美国Edward &amp; Sons有 机椰丝烘焙227g</td>\n",
       "      <td>NaN</td>\n",
       "      <td>NaN</td>\n",
       "      <td>0.0</td>\n",
       "      <td>20201225.0</td>\n",
       "      <td>2020-12-25</td>\n",
       "    </tr>\n",
       "    <tr>\n",
       "      <th>3</th>\n",
       "      <td>43541408544</td>\n",
       "      <td>京东超市 合生元 爱斯时光 1段400g 婴儿配方奶粉0-6个月 原罐进口</td>\n",
       "      <td>NaN</td>\n",
       "      <td>NaN</td>\n",
       "      <td>697.0</td>\n",
       "      <td>20211102.0</td>\n",
       "      <td>2021-11-02</td>\n",
       "    </tr>\n",
       "    <tr>\n",
       "      <th>4</th>\n",
       "      <td>55514902865</td>\n",
       "      <td>【送礼礼盒】蒙牛金装铂金装中老年/学生/成人多维高钙成人奶粉2罐装 送长辈父母孩子营养奶粉 ...</td>\n",
       "      <td>NaN</td>\n",
       "      <td>NaN</td>\n",
       "      <td>169.0</td>\n",
       "      <td>20210508.0</td>\n",
       "      <td>2021-05-08</td>\n",
       "    </tr>\n",
       "    <tr>\n",
       "      <th>7</th>\n",
       "      <td>7425800</td>\n",
       "      <td>雅培(Abbott)Eleva菁挚纯净幼儿配方奶粉 3段900克*3 天然纯净礼盒（新老包装...</td>\n",
       "      <td>NaN</td>\n",
       "      <td>NaN</td>\n",
       "      <td>7178.0</td>\n",
       "      <td>20211019.0</td>\n",
       "      <td>2021-10-19</td>\n",
       "    </tr>\n",
       "  </tbody>\n",
       "</table>\n",
       "</div>"
      ],
      "text/plain": [
       "              sku                                       product_name  \\\n",
       "0    100021558806  爱尔兰原装进口 爱他美（Aptamil）英国HMO较大婴儿配方奶粉2段（6-12个月）易乐罐...   \n",
       "1  10022644635456                     【现货】美国Edward & Sons有 机椰丝烘焙227g   \n",
       "3     43541408544              京东超市 合生元 爱斯时光 1段400g 婴儿配方奶粉0-6个月 原罐进口   \n",
       "4     55514902865  【送礼礼盒】蒙牛金装铂金装中老年/学生/成人多维高钙成人奶粉2罐装 送长辈父母孩子营养奶粉 ...   \n",
       "7         7425800  雅培(Abbott)Eleva菁挚纯净幼儿配方奶粉 3段900克*3 天然纯净礼盒（新老包装...   \n",
       "\n",
       "   monthly_sales_qty  total_sales_qty  total_comment_num    date_key  \\\n",
       "0                NaN              NaN                7.0  20211005.0   \n",
       "1                NaN              NaN                0.0  20201225.0   \n",
       "3                NaN              NaN              697.0  20211102.0   \n",
       "4                NaN              NaN              169.0  20210508.0   \n",
       "7                NaN              NaN             7178.0  20211019.0   \n",
       "\n",
       "  date_joiner  \n",
       "0  2021-10-05  \n",
       "1  2020-12-25  \n",
       "3  2021-11-02  \n",
       "4  2021-05-08  \n",
       "7  2021-10-19  "
      ]
     },
     "execution_count": 7,
     "metadata": {},
     "output_type": "execute_result"
    }
   ],
   "source": [
    "dfx.head()"
   ]
  },
  {
   "cell_type": "markdown",
   "metadata": {},
   "source": [
    "Intersection of skus across datasets:"
   ]
  },
  {
   "cell_type": "code",
   "execution_count": 8,
   "metadata": {},
   "outputs": [
    {
     "name": "stdout",
     "output_type": "stream",
     "text": [
      "unique number of sku id's across datasets = 163\n"
     ]
    }
   ],
   "source": [
    "sku_overlaps = set(dfx.sku).intersection(set(dfy.sku))\n",
    "print(f\"unique number of sku id's across datasets = {len(sku_overlaps)}\")"
   ]
  },
  {
   "cell_type": "markdown",
   "metadata": {},
   "source": [
    "Intersection of product names across datasets"
   ]
  },
  {
   "cell_type": "code",
   "execution_count": 9,
   "metadata": {},
   "outputs": [
    {
     "name": "stdout",
     "output_type": "stream",
     "text": [
      "unique number of sku id's across datasets = 82\n"
     ]
    }
   ],
   "source": [
    "name_overlaps = set(dfx.product_name).intersection(set(dfy.product_name))\n",
    "print(f\"unique number of sku id's across datasets = {len(name_overlaps)}\")"
   ]
  },
  {
   "cell_type": "code",
   "execution_count": 10,
   "metadata": {},
   "outputs": [],
   "source": [
    "#overlapped_sku = sku_overlaps.pop()"
   ]
  },
  {
   "cell_type": "code",
   "execution_count": 11,
   "metadata": {},
   "outputs": [
    {
     "data": {
      "text/plain": [
       "100003254211    27\n",
       "100002643949    27\n",
       "100005794930    25\n",
       "100004404957    24\n",
       "100005855583    23\n",
       "                ..\n",
       "100017132980     1\n",
       "100003754072     1\n",
       "100017379210     1\n",
       "100016053346     1\n",
       "100017879356     1\n",
       "Name: sku, Length: 163, dtype: int64"
      ]
     },
     "execution_count": 11,
     "metadata": {},
     "output_type": "execute_result"
    }
   ],
   "source": [
    "dfx.loc[lambda dd: dd.loc[lambda d: d.sku.isin(sku_overlaps)].total_comment_num.notnull().loc[lambda x: x].index].sku.value_counts()"
   ]
  },
  {
   "cell_type": "markdown",
   "metadata": {},
   "source": [
    "Example SKU = 100004404957"
   ]
  },
  {
   "cell_type": "code",
   "execution_count": 12,
   "metadata": {},
   "outputs": [
    {
     "data": {
      "text/plain": [
       "<AxesSubplot:xlabel='date_joiner'>"
      ]
     },
     "execution_count": 12,
     "metadata": {},
     "output_type": "execute_result"
    },
    {
     "data": {
      "image/png": "[encoded data removed]",
      "text/plain": [
       "<Figure size 432x288 with 1 Axes>"
      ]
     },
     "metadata": {
      "needs_background": "light"
     },
     "output_type": "display_data"
    }
   ],
   "source": [
    "dfx.loc[lambda d: d.sku == 100005855583].set_index('date_joiner').sort_index().total_comment_num.plot()#.total_comment_num"
   ]
  },
  {
   "cell_type": "code",
   "execution_count": 92,
   "metadata": {},
   "outputs": [
    {
     "data": {
      "text/plain": [
       "<AxesSubplot:xlabel='date_joiner'>"
      ]
     },
     "execution_count": 92,
     "metadata": {},
     "output_type": "execute_result"
    },
    {
     "data": {
      "image/png": "[encoded data removed]",
      "text/plain": [
       "<Figure size 432x288 with 1 Axes>"
      ]
     },
     "metadata": {
      "needs_background": "light"
     },
     "output_type": "display_data"
    }
   ],
   "source": [
    "dfy.loc[lambda d: d.sku == 100005855583].groupby(['sku', 'date_joiner'])['deal_num'].max().droplevel(0).plot()"
   ]
  },
  {
   "cell_type": "markdown",
   "metadata": {},
   "source": [
    "## Hypothesis 1\n",
    "\n",
    "`tcd-0030` is correlated to sales (compass/GP#232)\n",
    "\n",
    "### `tcd-0030` definition\n",
    "take a random observation of all-comments, at time `t_0`. \n",
    "\n",
    "1. find the closest observation of `tc` to that time, call it `tc_m30`.  \n",
    "2. then, compute the number of days that `tc_m30` is away from `t_0 - 30d`, and call it `tc-delta-m30`\n",
    "3. last, compute the difference between `tc` and `tc_m30`, call it `tcd-0030`"
   ]
  },
  {
   "cell_type": "code",
   "execution_count": 45,
   "metadata": {},
   "outputs": [],
   "source": [
    "from datetime import timedelta\n",
    "from matplotlib import pyplot as plt\n",
    "import numpy as np"
   ]
  },
  {
   "cell_type": "code",
   "execution_count": 15,
   "metadata": {},
   "outputs": [
    {
     "data": {
      "text/plain": [
       "date_joiner\n",
       "2020-07-01     4078.0\n",
       "2020-07-10     4245.0\n",
       "2020-07-31     4676.0\n",
       "2020-10-09     6842.0\n",
       "2021-01-02    10436.0\n",
       "2021-01-12    10975.0\n",
       "2021-03-02    12450.0\n",
       "2021-03-07    12599.0\n",
       "2021-06-12    15447.0\n",
       "2021-06-13    15449.0\n",
       "2021-06-22    15527.0\n",
       "2021-08-01    17464.0\n",
       "2021-08-03    17522.0\n",
       "2021-09-18    19212.0\n",
       "2021-09-21    19256.0\n",
       "2021-09-25    19424.0\n",
       "2021-09-26    19451.0\n",
       "2021-09-29    19574.0\n",
       "2021-11-03    21238.0\n",
       "2021-11-29    24064.0\n",
       "2021-12-04    24178.0\n",
       "2021-12-06    24230.0\n",
       "2021-12-20    25158.0\n",
       "Name: total_comment_num, dtype: float64"
      ]
     },
     "metadata": {},
     "output_type": "display_data"
    }
   ],
   "source": [
    "x_sers = dfx.loc[lambda d: d.sku == 100005855583].set_index('date_joiner').sort_index().total_comment_num.copy()\n",
    "display(x_sers)"
   ]
  },
  {
   "cell_type": "code",
   "execution_count": 20,
   "metadata": {},
   "outputs": [],
   "source": [
    "## in the above case, there are several values to choose.  let's try doing this by month.\n",
    "# reduce the data to observations separated by month, to avoid over-correlating the observations.\n",
    "\n",
    "\n",
    "def compute_tcd00m(x_df: pd.DataFrame, \n",
    "                   m=20,\n",
    "                   sku_col = \"sku\",\n",
    "                   tc_col = \"total_comment_num\",\n",
    "                   ) -> pd.DataFrame:\n",
    "    \"\"\"Take series of relevant products to compute `tcd-00{m}`.\n",
    "\n",
    "    expected input:\n",
    "        pd.DataFrame:\n",
    "            columns = *_col\n",
    "            datetime index\n",
    "\n",
    "    start with tcd-0020, but, may need to try.. \n",
    "      - tcd-0030\n",
    "      - tcd-0040\n",
    "      - tcd-0050\n",
    "      - tcd-0060\n",
    "    \"\"\"\n",
    "\n",
    "\n",
    "    assert sku_col in x_df.columns\n",
    "    assert tc_col in x_df.columns\n",
    "    # add assert for time series index?\n",
    "\n",
    "    sku_num = x_df.loc[:, sku_col].iat[0]\n",
    "\n",
    "    last_ts, tcs, tss, tc_deltas, tcd_0030s = None, [], [], [], []\n",
    "    min_time_between_obs = timedelta(days=m)\n",
    "\n",
    "    for ts, tc in x_df.loc[:, tc_col].iteritems():\n",
    "        if not last_ts:\n",
    "            last_ts, last_tc = ts, tc\n",
    "            continue\n",
    "\n",
    "        time_between_obs = ts - last_ts\n",
    "\n",
    "        if time_between_obs > min_time_between_obs:\n",
    "            tcs.append(tc)\n",
    "            tss.append(ts)\n",
    "            tc_deltas.append(time_between_obs-min_time_between_obs)\n",
    "            tcd_0030s.append(tc - last_tc)\n",
    "            last_ts, last_tc = ts, tc\n",
    "\n",
    "    output = {\"tcs\": tcs,\n",
    "              \"tss\": tss,\n",
    "              \"tc_deltas\": tc_deltas,\n",
    "              f\"tcd_00{m:02d}s\": tcd_0030s,\n",
    "              \"sku\": sku_num}\n",
    "\n",
    "    return pd.DataFrame(output).set_index(['sku', 'tss'])\n",
    "\n"
   ]
  },
  {
   "cell_type": "code",
   "execution_count": 57,
   "metadata": {},
   "outputs": [],
   "source": [
    "M=30\n",
    "X=f\"tcd_00{M:02d}s\"\n",
    "y=f\"dealnum{M:02d}\""
   ]
  },
  {
   "cell_type": "code",
   "execution_count": null,
   "metadata": {},
   "outputs": [],
   "source": [
    "\n",
    "compute_tcd00m(dfx.loc[lambda d: d.sku == 100005855583].set_index('date_joiner').sort_index(), m=M)"
   ]
  },
  {
   "cell_type": "code",
   "execution_count": 21,
   "metadata": {},
   "outputs": [],
   "source": [
    "feature_dfs = []\n",
    "subset_df = lambda dd, idx: dfx.loc[lambda d: d.sku == idx].set_index('date_joiner').sort_index()\n",
    "\n",
    "dfa = pd.concat([dfx.pipe(subset_df, idx=sku).pipe(compute_tcd00m, m=M) \n",
    "                 for sku in sku_overlaps])\n",
    "\n"
   ]
  },
  {
   "cell_type": "code",
   "execution_count": 24,
   "metadata": {},
   "outputs": [],
   "source": [
    "reduced_y = (dfy\n",
    "     .loc[lambda d: d.sku.isin(sku_overlaps)]  # this part is the key-- for compute\n",
    "     .rename(columns={\"date_joiner\": \"tss\"})\n",
    "     .groupby(['sku', 'tss'])['deal_num']  # there are weird dups in the y data.. possible need to investigate\n",
    "     .max()\n",
    "     .sort_index()\n",
    "     )"
   ]
  },
  {
   "cell_type": "code",
   "execution_count": 26,
   "metadata": {},
   "outputs": [],
   "source": [
    "def m_shifter(data, col, m=20):\n",
    "    return data.assign(**{f\"{col}_{i:02d}\": data.loc[:, col].shift(i) for i in range(1, m)})\n"
   ]
  },
  {
   "cell_type": "code",
   "execution_count": 27,
   "metadata": {},
   "outputs": [],
   "source": [
    "agg_y = (reduced_y\n",
    "        .to_frame()\n",
    "        .pipe(m_shifter, col=\"deal_num\", m=M)\n",
    "        .assign(**{f\"dealnum{M:02d}\": lambda d: d.sum(axis=1)})\n",
    "        .loc[:, f\"dealnum{M:02d}\"]\n",
    "        )"
   ]
  },
  {
   "cell_type": "code",
   "execution_count": 29,
   "metadata": {},
   "outputs": [
    {
     "data": {
      "text/plain": [
       "sku           tss       \n",
       "2112715       2020-01-01    102.0\n",
       "              2020-01-02    125.0\n",
       "              2020-01-03    129.0\n",
       "              2020-01-04    181.0\n",
       "              2020-01-05    199.0\n",
       "                            ...  \n",
       "100026817154  2022-02-13      0.0\n",
       "              2022-02-15      0.0\n",
       "              2022-02-16      0.0\n",
       "              2022-02-17      0.0\n",
       "              2022-02-18      0.0\n",
       "Name: dealnum30, Length: 85347, dtype: float64"
      ]
     },
     "execution_count": 29,
     "metadata": {},
     "output_type": "execute_result"
    }
   ],
   "source": [
    "agg_y"
   ]
  },
  {
   "cell_type": "code",
   "execution_count": 30,
   "metadata": {},
   "outputs": [],
   "source": [
    "df_final = dfa.join(agg_y)"
   ]
  },
  {
   "cell_type": "code",
   "execution_count": 40,
   "metadata": {},
   "outputs": [
    {
     "data": {
      "text/plain": [
       "[<matplotlib.lines.Line2D at 0x2462cf46130>]"
      ]
     },
     "execution_count": 40,
     "metadata": {},
     "output_type": "execute_result"
    },
    {
     "data": {
      "text/plain": [
       "<Figure size 504x504 with 0 Axes>"
      ]
     },
     "metadata": {},
     "output_type": "display_data"
    },
    {
     "data": {
      "image/png": "[encoded data removed]",
      "text/plain": [
       "<Figure size 432x288 with 1 Axes>"
      ]
     },
     "metadata": {
      "needs_background": "light"
     },
     "output_type": "display_data"
    }
   ],
   "source": [
    "plt.figure(figsize=(7,7))\n",
    "(df_final\n",
    " .loc[lambda d: d.tc_deltas < timedelta(days=20)]\n",
    " .plot(kind=\"scatter\", y=f\"dealnum{M:02d}\", x=f\"tcd_00{M:02d}s\", alpha=0.5)\n",
    ")\n",
    "plt.plot([0,4e4], [0,4e4], 'r--', alpha=.5)"
   ]
  },
  {
   "cell_type": "code",
   "execution_count": 53,
   "metadata": {},
   "outputs": [
    {
     "data": {
      "text/html": [
       "<div>\n",
       "<style scoped>\n",
       "    .dataframe tbody tr th:only-of-type {\n",
       "        vertical-align: middle;\n",
       "    }\n",
       "\n",
       "    .dataframe tbody tr th {\n",
       "        vertical-align: top;\n",
       "    }\n",
       "\n",
       "    .dataframe thead th {\n",
       "        text-align: right;\n",
       "    }\n",
       "</style>\n",
       "<table border=\"1\" class=\"dataframe\">\n",
       "  <thead>\n",
       "    <tr style=\"text-align: right;\">\n",
       "      <th></th>\n",
       "      <th></th>\n",
       "      <th>tcs</th>\n",
       "      <th>tc_deltas</th>\n",
       "      <th>tcd_0030s</th>\n",
       "      <th>dealnum30</th>\n",
       "    </tr>\n",
       "    <tr>\n",
       "      <th>sku</th>\n",
       "      <th>tss</th>\n",
       "      <th></th>\n",
       "      <th></th>\n",
       "      <th></th>\n",
       "      <th></th>\n",
       "    </tr>\n",
       "  </thead>\n",
       "  <tbody>\n",
       "    <tr>\n",
       "      <th rowspan=\"5\" valign=\"top\">100013241352</th>\n",
       "      <th>2021-01-12</th>\n",
       "      <td>1026.0</td>\n",
       "      <td>106 days</td>\n",
       "      <td>838.0</td>\n",
       "      <td>189.0</td>\n",
       "    </tr>\n",
       "    <tr>\n",
       "      <th>2021-03-29</th>\n",
       "      <td>1445.0</td>\n",
       "      <td>46 days</td>\n",
       "      <td>419.0</td>\n",
       "      <td>205.0</td>\n",
       "    </tr>\n",
       "    <tr>\n",
       "      <th>2021-08-24</th>\n",
       "      <td>2247.0</td>\n",
       "      <td>118 days</td>\n",
       "      <td>802.0</td>\n",
       "      <td>135.0</td>\n",
       "    </tr>\n",
       "    <tr>\n",
       "      <th>2021-09-25</th>\n",
       "      <td>2369.0</td>\n",
       "      <td>2 days</td>\n",
       "      <td>122.0</td>\n",
       "      <td>126.0</td>\n",
       "    </tr>\n",
       "    <tr>\n",
       "      <th>2021-11-02</th>\n",
       "      <td>2474.0</td>\n",
       "      <td>8 days</td>\n",
       "      <td>105.0</td>\n",
       "      <td>78.0</td>\n",
       "    </tr>\n",
       "  </tbody>\n",
       "</table>\n",
       "</div>"
      ],
      "text/plain": [
       "                            tcs tc_deltas  tcd_0030s  dealnum30\n",
       "sku          tss                                               \n",
       "100013241352 2021-01-12  1026.0  106 days      838.0      189.0\n",
       "             2021-03-29  1445.0   46 days      419.0      205.0\n",
       "             2021-08-24  2247.0  118 days      802.0      135.0\n",
       "             2021-09-25  2369.0    2 days      122.0      126.0\n",
       "             2021-11-02  2474.0    8 days      105.0       78.0"
      ]
     },
     "execution_count": 53,
     "metadata": {},
     "output_type": "execute_result"
    }
   ],
   "source": [
    "df_final.head()"
   ]
  },
  {
   "cell_type": "code",
   "execution_count": 95,
   "metadata": {},
   "outputs": [
    {
     "data": {
      "text/plain": [
       "[<matplotlib.lines.Line2D at 0x2462b363520>]"
      ]
     },
     "execution_count": 95,
     "metadata": {},
     "output_type": "execute_result"
    },
    {
     "data": {
      "image/png": "[encoded data removed]",
      "text/plain": [
       "<Figure size 720x648 with 2 Axes>"
      ]
     },
     "metadata": {
      "needs_background": "light"
     },
     "output_type": "display_data"
    }
   ],
   "source": [
    "(df_final\n",
    " .sort_values(by=\"tc_deltas\")\n",
    " .assign(log_x=lambda d: d.loc[:, X].apply(np.log1p),\n",
    "         log_y=lambda d: d.loc[:, y].apply(np.log1p),\n",
    "         log_diff=lambda d: abs(d.log_x - d.log_y),\n",
    "         time_delay=lambda d: d.loc[:, \"tc_deltas\"].apply(lambda x: x.days),\n",
    "         )\n",
    " .loc[:, [\"time_delay\", X, y, \"log_x\",\"log_y\",\"log_diff\"]]\n",
    " #.style.bar()\n",
    " .plot(x=\"log_x\",\n",
    "       y=\"log_y\",\n",
    "       c=\"log_diff\",\n",
    "       cmap=\"tab20\",\n",
    "       alpha=.7,\n",
    "       kind='scatter',\n",
    "       #xlim=(0,6e4),\n",
    "       #ylim=(0,6e4),\n",
    "       figsize=(10,9))\n",
    ")\n",
    "plt.plot([0,6], [0,6], 'p--')\n"
   ]
  },
  {
   "cell_type": "markdown",
   "metadata": {},
   "source": []
  },
  {
   "cell_type": "code",
   "execution_count": 79,
   "metadata": {},
   "outputs": [
    {
     "data": {
      "text/html": [
       "<div>\n",
       "<style scoped>\n",
       "    .dataframe tbody tr th:only-of-type {\n",
       "        vertical-align: middle;\n",
       "    }\n",
       "\n",
       "    .dataframe tbody tr th {\n",
       "        vertical-align: top;\n",
       "    }\n",
       "\n",
       "    .dataframe thead th {\n",
       "        text-align: right;\n",
       "    }\n",
       "</style>\n",
       "<table border=\"1\" class=\"dataframe\">\n",
       "  <thead>\n",
       "    <tr style=\"text-align: right;\">\n",
       "      <th></th>\n",
       "      <th></th>\n",
       "      <th>tcs</th>\n",
       "      <th>tc_deltas</th>\n",
       "      <th>tcd_0030s</th>\n",
       "      <th>dealnum30</th>\n",
       "    </tr>\n",
       "    <tr>\n",
       "      <th>sku</th>\n",
       "      <th>tss</th>\n",
       "      <th></th>\n",
       "      <th></th>\n",
       "      <th></th>\n",
       "      <th></th>\n",
       "    </tr>\n",
       "  </thead>\n",
       "  <tbody>\n",
       "    <tr>\n",
       "      <th>100005156931</th>\n",
       "      <th>2020-12-24</th>\n",
       "      <td>52400.0</td>\n",
       "      <td>87 days</td>\n",
       "      <td>16786.0</td>\n",
       "      <td>3162.0</td>\n",
       "    </tr>\n",
       "    <tr>\n",
       "      <th rowspan=\"2\" valign=\"top\">100002005661</th>\n",
       "      <th>2021-01-03</th>\n",
       "      <td>94304.0</td>\n",
       "      <td>70 days</td>\n",
       "      <td>10035.0</td>\n",
       "      <td>2486.0</td>\n",
       "    </tr>\n",
       "    <tr>\n",
       "      <th>2021-05-26</th>\n",
       "      <td>110805.0</td>\n",
       "      <td>113 days</td>\n",
       "      <td>16501.0</td>\n",
       "      <td>2379.0</td>\n",
       "    </tr>\n",
       "    <tr>\n",
       "      <th rowspan=\"2\" valign=\"top\">2491139</th>\n",
       "      <th>2021-05-10</th>\n",
       "      <td>50273.0</td>\n",
       "      <td>21 days</td>\n",
       "      <td>24697.0</td>\n",
       "      <td>20295.0</td>\n",
       "    </tr>\n",
       "    <tr>\n",
       "      <th>2021-06-12</th>\n",
       "      <td>67528.0</td>\n",
       "      <td>3 days</td>\n",
       "      <td>17255.0</td>\n",
       "      <td>15919.0</td>\n",
       "    </tr>\n",
       "    <tr>\n",
       "      <th>...</th>\n",
       "      <th>...</th>\n",
       "      <td>...</td>\n",
       "      <td>...</td>\n",
       "      <td>...</td>\n",
       "      <td>...</td>\n",
       "    </tr>\n",
       "    <tr>\n",
       "      <th rowspan=\"3\" valign=\"top\">6727647</th>\n",
       "      <th>2021-07-13</th>\n",
       "      <td>527480.0</td>\n",
       "      <td>92 days</td>\n",
       "      <td>40647.0</td>\n",
       "      <td>11354.0</td>\n",
       "    </tr>\n",
       "    <tr>\n",
       "      <th>2021-09-14</th>\n",
       "      <td>545090.0</td>\n",
       "      <td>33 days</td>\n",
       "      <td>17610.0</td>\n",
       "      <td>6343.0</td>\n",
       "    </tr>\n",
       "    <tr>\n",
       "      <th>2021-11-04</th>\n",
       "      <td>560083.0</td>\n",
       "      <td>21 days</td>\n",
       "      <td>14993.0</td>\n",
       "      <td>11974.0</td>\n",
       "    </tr>\n",
       "    <tr>\n",
       "      <th>100007805922</th>\n",
       "      <th>2021-01-12</th>\n",
       "      <td>55110.0</td>\n",
       "      <td>86 days</td>\n",
       "      <td>17783.0</td>\n",
       "      <td>1948.0</td>\n",
       "    </tr>\n",
       "    <tr>\n",
       "      <th>7721443</th>\n",
       "      <th>2021-06-17</th>\n",
       "      <td>33467.0</td>\n",
       "      <td>105 days</td>\n",
       "      <td>13823.0</td>\n",
       "      <td>9123.0</td>\n",
       "    </tr>\n",
       "  </tbody>\n",
       "</table>\n",
       "<p>135 rows × 4 columns</p>\n",
       "</div>"
      ],
      "text/plain": [
       "                              tcs tc_deltas  tcd_0030s  dealnum30\n",
       "sku          tss                                                 \n",
       "100005156931 2020-12-24   52400.0   87 days    16786.0     3162.0\n",
       "100002005661 2021-01-03   94304.0   70 days    10035.0     2486.0\n",
       "             2021-05-26  110805.0  113 days    16501.0     2379.0\n",
       "2491139      2021-05-10   50273.0   21 days    24697.0    20295.0\n",
       "             2021-06-12   67528.0    3 days    17255.0    15919.0\n",
       "...                           ...       ...        ...        ...\n",
       "6727647      2021-07-13  527480.0   92 days    40647.0    11354.0\n",
       "             2021-09-14  545090.0   33 days    17610.0     6343.0\n",
       "             2021-11-04  560083.0   21 days    14993.0    11974.0\n",
       "100007805922 2021-01-12   55110.0   86 days    17783.0     1948.0\n",
       "7721443      2021-06-17   33467.0  105 days    13823.0     9123.0\n",
       "\n",
       "[135 rows x 4 columns]"
      ]
     },
     "execution_count": 79,
     "metadata": {},
     "output_type": "execute_result"
    }
   ],
   "source": [
    "df_final.loc[lambda d: d.loc[:, X] > 10000]"
   ]
  },
  {
   "cell_type": "code",
   "execution_count": 63,
   "metadata": {},
   "outputs": [
    {
     "data": {
      "text/plain": [
       "9"
      ]
     },
     "execution_count": 63,
     "metadata": {},
     "output_type": "execute_result"
    }
   ],
   "source": [
    "timedelta(days=9).days"
   ]
  },
  {
   "cell_type": "code",
   "execution_count": null,
   "metadata": {},
   "outputs": [],
   "source": []
  }
 ],
 "metadata": {
  "kernelspec": {
   "display_name": "Python 3.9.7 ('base')",
   "language": "python",
   "name": "python3"
  },
  "language_info": {
   "codemirror_mode": {
    "name": "ipython",
    "version": 3
   },
   "file_extension": ".py",
   "mimetype": "text/x-python",
   "name": "python",
   "nbconvert_exporter": "python",
   "pygments_lexer": "ipython3",
   "version": "3.9.7"
  },
  "orig_nbformat": 4,
  "vscode": {
   "interpreter": {
    "hash": "0775527f6eb1d1379bb85a0af866f564ae2ca268c195624fe7a9c5f4ef516f9e"
   }
  }
 },
 "nbformat": 4,
 "nbformat_minor": 2
}
