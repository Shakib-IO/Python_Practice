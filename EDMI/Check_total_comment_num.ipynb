{
  "nbformat": 4,
  "nbformat_minor": 0,
  "metadata": {
    "colab": {
      "name": "Check total_comment_num.ipynb",
      "provenance": [],
      "collapsed_sections": []
    },
    "kernelspec": {
      "name": "python3",
      "display_name": "Python 3"
    },
    "language_info": {
      "name": "python"
    }
  },
  "cells": [
    {
      "cell_type": "markdown",
      "source": [
        "I'm working on this file **compsaa_file2_20220101_20220228.xlsx**"
      ],
      "metadata": {
        "id": "WFiNKgBMH3hv"
      }
    },
    {
      "cell_type": "markdown",
      "source": [
        "**This is the Gitlab [issue #2](https://gitlab.earlydata.com/devs/ai/rnd/ssv4-features/-/issues/2)**"
      ],
      "metadata": {
        "id": "u3CiUKdiH-DN"
      }
    },
    {
      "cell_type": "code",
      "execution_count": 1,
      "metadata": {
        "colab": {
          "base_uri": "https://localhost:8080/"
        },
        "id": "bdI7cPjCHb6N",
        "outputId": "d0ca4b4e-7836-4062-eaeb-5407a80643ed"
      },
      "outputs": [
        {
          "output_type": "stream",
          "name": "stdout",
          "text": [
            "Mounted at /content/gdrive\n"
          ]
        }
      ],
      "source": [
        "from google.colab import drive\n",
        "drive.mount('/content/gdrive')"
      ]
    },
    {
      "cell_type": "code",
      "source": [
        "import pandas as pd\n",
        "from datetime import datetime"
      ],
      "metadata": {
        "id": "v6Q8nIIoILAO"
      },
      "execution_count": 3,
      "outputs": []
    },
    {
      "cell_type": "markdown",
      "source": [
        "**Read the X data**"
      ],
      "metadata": {
        "id": "cgfjLRpvIQFs"
      }
    },
    {
      "cell_type": "code",
      "source": [
        "x_data = pd.read_csv('/content/gdrive/MyDrive/EDMI/x.csv')\n",
        "x_data1 = x_data\n",
        "x_data1.head(5)"
      ],
      "metadata": {
        "colab": {
          "base_uri": "https://localhost:8080/",
          "height": 206
        },
        "id": "6OmpTGugIP3G",
        "outputId": "673f587a-7670-4ae7-d9d1-8b645881ce6b"
      },
      "execution_count": 158,
      "outputs": [
        {
          "output_type": "execute_result",
          "data": {
            "text/plain": [
              "              sku                                       product_name  \\\n",
              "0     68344574739  美可卓（Maxigenes）澳洲进口蓝胖子奶粉成人老年孕妇奶粉青少年学生儿童奶粉 全脂 5罐...   \n",
              "1         4712764           雀巢（nestle）能恩 较大婴儿配方奶粉 2段（6-12个月婴儿适用）400克   \n",
              "2    100031906240         沙漠白金骆驼奶粉新疆正宗无蔗糖益生菌纯骆驼奶中老年儿童青少年孕妇成人双峰驼乳粉单条装   \n",
              "3  10026385433422                            英贝健 牛初乳益生菌骆驼 骆驼奶营养粉(2罐)   \n",
              "4     31217400330    伊利 高蛋白高钙脱脂奶粉450g袋装 成人冲饮奶粉中老年营养奶 女士低脂早餐牛奶粉 独立小包装   \n",
              "\n",
              "   monthly_sales_qty  total_sales_qty  total_comment_num  date_key  \n",
              "0                NaN              NaN                NaN  20220206  \n",
              "1                NaN              NaN                NaN  20220220  \n",
              "2                NaN              NaN                NaN  20220123  \n",
              "3                NaN              NaN                NaN  20220214  \n",
              "4                NaN              NaN                NaN  20220109  "
            ],
            "text/html": [
              "\n",
              "  <div id=\"df-1b556fb8-c028-4866-bf6d-ed80bc6b3352\">\n",
              "    <div class=\"colab-df-container\">\n",
              "      <div>\n",
              "<style scoped>\n",
              "    .dataframe tbody tr th:only-of-type {\n",
              "        vertical-align: middle;\n",
              "    }\n",
              "\n",
              "    .dataframe tbody tr th {\n",
              "        vertical-align: top;\n",
              "    }\n",
              "\n",
              "    .dataframe thead th {\n",
              "        text-align: right;\n",
              "    }\n",
              "</style>\n",
              "<table border=\"1\" class=\"dataframe\">\n",
              "  <thead>\n",
              "    <tr style=\"text-align: right;\">\n",
              "      <th></th>\n",
              "      <th>sku</th>\n",
              "      <th>product_name</th>\n",
              "      <th>monthly_sales_qty</th>\n",
              "      <th>total_sales_qty</th>\n",
              "      <th>total_comment_num</th>\n",
              "      <th>date_key</th>\n",
              "    </tr>\n",
              "  </thead>\n",
              "  <tbody>\n",
              "    <tr>\n",
              "      <th>0</th>\n",
              "      <td>68344574739</td>\n",
              "      <td>美可卓（Maxigenes）澳洲进口蓝胖子奶粉成人老年孕妇奶粉青少年学生儿童奶粉 全脂 5罐...</td>\n",
              "      <td>NaN</td>\n",
              "      <td>NaN</td>\n",
              "      <td>NaN</td>\n",
              "      <td>20220206</td>\n",
              "    </tr>\n",
              "    <tr>\n",
              "      <th>1</th>\n",
              "      <td>4712764</td>\n",
              "      <td>雀巢（nestle）能恩 较大婴儿配方奶粉 2段（6-12个月婴儿适用）400克</td>\n",
              "      <td>NaN</td>\n",
              "      <td>NaN</td>\n",
              "      <td>NaN</td>\n",
              "      <td>20220220</td>\n",
              "    </tr>\n",
              "    <tr>\n",
              "      <th>2</th>\n",
              "      <td>100031906240</td>\n",
              "      <td>沙漠白金骆驼奶粉新疆正宗无蔗糖益生菌纯骆驼奶中老年儿童青少年孕妇成人双峰驼乳粉单条装</td>\n",
              "      <td>NaN</td>\n",
              "      <td>NaN</td>\n",
              "      <td>NaN</td>\n",
              "      <td>20220123</td>\n",
              "    </tr>\n",
              "    <tr>\n",
              "      <th>3</th>\n",
              "      <td>10026385433422</td>\n",
              "      <td>英贝健 牛初乳益生菌骆驼 骆驼奶营养粉(2罐)</td>\n",
              "      <td>NaN</td>\n",
              "      <td>NaN</td>\n",
              "      <td>NaN</td>\n",
              "      <td>20220214</td>\n",
              "    </tr>\n",
              "    <tr>\n",
              "      <th>4</th>\n",
              "      <td>31217400330</td>\n",
              "      <td>伊利 高蛋白高钙脱脂奶粉450g袋装 成人冲饮奶粉中老年营养奶 女士低脂早餐牛奶粉 独立小包装</td>\n",
              "      <td>NaN</td>\n",
              "      <td>NaN</td>\n",
              "      <td>NaN</td>\n",
              "      <td>20220109</td>\n",
              "    </tr>\n",
              "  </tbody>\n",
              "</table>\n",
              "</div>\n",
              "      <button class=\"colab-df-convert\" onclick=\"convertToInteractive('df-1b556fb8-c028-4866-bf6d-ed80bc6b3352')\"\n",
              "              title=\"Convert this dataframe to an interactive table.\"\n",
              "              style=\"display:none;\">\n",
              "        \n",
              "  <svg xmlns=\"http://www.w3.org/2000/svg\" height=\"24px\"viewBox=\"0 0 24 24\"\n",
              "       width=\"24px\">\n",
              "    <path d=\"M0 0h24v24H0V0z\" fill=\"none\"/>\n",
              "    <path d=\"M18.56 5.44l.94 2.06.94-2.06 2.06-.94-2.06-.94-.94-2.06-.94 2.06-2.06.94zm-11 1L8.5 8.5l.94-2.06 2.06-.94-2.06-.94L8.5 2.5l-.94 2.06-2.06.94zm10 10l.94 2.06.94-2.06 2.06-.94-2.06-.94-.94-2.06-.94 2.06-2.06.94z\"/><path d=\"M17.41 7.96l-1.37-1.37c-.4-.4-.92-.59-1.43-.59-.52 0-1.04.2-1.43.59L10.3 9.45l-7.72 7.72c-.78.78-.78 2.05 0 2.83L4 21.41c.39.39.9.59 1.41.59.51 0 1.02-.2 1.41-.59l7.78-7.78 2.81-2.81c.8-.78.8-2.07 0-2.86zM5.41 20L4 18.59l7.72-7.72 1.47 1.35L5.41 20z\"/>\n",
              "  </svg>\n",
              "      </button>\n",
              "      \n",
              "  <style>\n",
              "    .colab-df-container {\n",
              "      display:flex;\n",
              "      flex-wrap:wrap;\n",
              "      gap: 12px;\n",
              "    }\n",
              "\n",
              "    .colab-df-convert {\n",
              "      background-color: #E8F0FE;\n",
              "      border: none;\n",
              "      border-radius: 50%;\n",
              "      cursor: pointer;\n",
              "      display: none;\n",
              "      fill: #1967D2;\n",
              "      height: 32px;\n",
              "      padding: 0 0 0 0;\n",
              "      width: 32px;\n",
              "    }\n",
              "\n",
              "    .colab-df-convert:hover {\n",
              "      background-color: #E2EBFA;\n",
              "      box-shadow: 0px 1px 2px rgba(60, 64, 67, 0.3), 0px 1px 3px 1px rgba(60, 64, 67, 0.15);\n",
              "      fill: #174EA6;\n",
              "    }\n",
              "\n",
              "    [theme=dark] .colab-df-convert {\n",
              "      background-color: #3B4455;\n",
              "      fill: #D2E3FC;\n",
              "    }\n",
              "\n",
              "    [theme=dark] .colab-df-convert:hover {\n",
              "      background-color: #434B5C;\n",
              "      box-shadow: 0px 1px 3px 1px rgba(0, 0, 0, 0.15);\n",
              "      filter: drop-shadow(0px 1px 2px rgba(0, 0, 0, 0.3));\n",
              "      fill: #FFFFFF;\n",
              "    }\n",
              "  </style>\n",
              "\n",
              "      <script>\n",
              "        const buttonEl =\n",
              "          document.querySelector('#df-1b556fb8-c028-4866-bf6d-ed80bc6b3352 button.colab-df-convert');\n",
              "        buttonEl.style.display =\n",
              "          google.colab.kernel.accessAllowed ? 'block' : 'none';\n",
              "\n",
              "        async function convertToInteractive(key) {\n",
              "          const element = document.querySelector('#df-1b556fb8-c028-4866-bf6d-ed80bc6b3352');\n",
              "          const dataTable =\n",
              "            await google.colab.kernel.invokeFunction('convertToInteractive',\n",
              "                                                     [key], {});\n",
              "          if (!dataTable) return;\n",
              "\n",
              "          const docLinkHtml = 'Like what you see? Visit the ' +\n",
              "            '<a target=\"_blank\" href=https://colab.research.google.com/notebooks/data_table.ipynb>data table notebook</a>'\n",
              "            + ' to learn more about interactive tables.';\n",
              "          element.innerHTML = '';\n",
              "          dataTable['output_type'] = 'display_data';\n",
              "          await google.colab.output.renderOutput(dataTable, element);\n",
              "          const docLink = document.createElement('div');\n",
              "          docLink.innerHTML = docLinkHtml;\n",
              "          element.appendChild(docLink);\n",
              "        }\n",
              "      </script>\n",
              "    </div>\n",
              "  </div>\n",
              "  "
            ]
          },
          "metadata": {},
          "execution_count": 158
        }
      ]
    },
    {
      "cell_type": "code",
      "source": [
        "x_data1.info()"
      ],
      "metadata": {
        "colab": {
          "base_uri": "https://localhost:8080/"
        },
        "id": "AE1mhAbOIYfF",
        "outputId": "b78ffb0f-a90a-4520-b9df-4f7c5e8dcae5"
      },
      "execution_count": 159,
      "outputs": [
        {
          "output_type": "stream",
          "name": "stdout",
          "text": [
            "<class 'pandas.core.frame.DataFrame'>\n",
            "RangeIndex: 271097 entries, 0 to 271096\n",
            "Data columns (total 6 columns):\n",
            " #   Column             Non-Null Count   Dtype  \n",
            "---  ------             --------------   -----  \n",
            " 0   sku                271097 non-null  int64  \n",
            " 1   product_name       271097 non-null  object \n",
            " 2   monthly_sales_qty  0 non-null       float64\n",
            " 3   total_sales_qty    0 non-null       float64\n",
            " 4   total_comment_num  117854 non-null  float64\n",
            " 5   date_key           271097 non-null  int64  \n",
            "dtypes: float64(3), int64(2), object(1)\n",
            "memory usage: 12.4+ MB\n"
          ]
        }
      ]
    },
    {
      "cell_type": "code",
      "source": [
        "x_data1.shape"
      ],
      "metadata": {
        "colab": {
          "base_uri": "https://localhost:8080/"
        },
        "id": "ju3rXVpAJT2L",
        "outputId": "5cba6cd6-56b8-40ba-fdf7-80781af5c0ee"
      },
      "execution_count": 160,
      "outputs": [
        {
          "output_type": "execute_result",
          "data": {
            "text/plain": [
              "(271097, 6)"
            ]
          },
          "metadata": {},
          "execution_count": 160
        }
      ]
    },
    {
      "cell_type": "code",
      "source": [
        "x_data.isnull().sum()"
      ],
      "metadata": {
        "colab": {
          "base_uri": "https://localhost:8080/"
        },
        "id": "kUrjyqLSIm-6",
        "outputId": "47b830a4-ea90-4d58-d3ec-708dfb3c9d0a"
      },
      "execution_count": 161,
      "outputs": [
        {
          "output_type": "execute_result",
          "data": {
            "text/plain": [
              "sku                       0\n",
              "product_name              0\n",
              "monthly_sales_qty    271097\n",
              "total_sales_qty      271097\n",
              "total_comment_num    153243\n",
              "date_key                  0\n",
              "dtype: int64"
            ]
          },
          "metadata": {},
          "execution_count": 161
        }
      ]
    },
    {
      "cell_type": "code",
      "source": [
        "\n",
        "# Lets's Drop the NULL columns\n",
        "x_data1 = x_data1.drop(['monthly_sales_qty', 'total_sales_qty'], axis = 1)\n",
        "x_data1.tail()"
      ],
      "metadata": {
        "colab": {
          "base_uri": "https://localhost:8080/",
          "height": 206
        },
        "id": "7WGGb7N0IrjI",
        "outputId": "0237944a-239e-4f3d-e0ba-ff2b9cc33f88"
      },
      "execution_count": 162,
      "outputs": [
        {
          "output_type": "execute_result",
          "data": {
            "text/plain": [
              "                   sku                                       product_name  \\\n",
              "271092      1957784466  【福州仓发货】诺优能牛栏（Nutrilon）深度水解奶粉 深度水解PEPTI 1段 新版 低...   \n",
              "271093  10032773438610  【新鲜日期】雀巢学生奶粉成年儿童中小学生营养牛奶粉冲饮6岁7以上早餐大学生 400g*4盒【...   \n",
              "271094    100007066678  京东超市 惠氏启赋（Wyeth illuma）亲和人体婴儿配方奶粉1段（0-6月适用） 35...   \n",
              "271095         1231001    佳贝艾特（Kabrita）悦白幼儿配方奶粉 3段(1-3岁婴幼儿适用)150克（荷兰原装进口）   \n",
              "271096     62224578554  诺茵美 新疆奶源骆驼奶粉全脂中老年成人孕妇儿童学生新鲜营养富硒高钙高铁配方驼乳粉独立包装 富...   \n",
              "\n",
              "        total_comment_num  date_key  \n",
              "271092             2000.0  20220216  \n",
              "271093                NaN  20220206  \n",
              "271094            50000.0  20220123  \n",
              "271095                NaN  20220206  \n",
              "271096                NaN  20220214  "
            ],
            "text/html": [
              "\n",
              "  <div id=\"df-8c1b7a40-c231-4fda-aa2f-81d1dc65c739\">\n",
              "    <div class=\"colab-df-container\">\n",
              "      <div>\n",
              "<style scoped>\n",
              "    .dataframe tbody tr th:only-of-type {\n",
              "        vertical-align: middle;\n",
              "    }\n",
              "\n",
              "    .dataframe tbody tr th {\n",
              "        vertical-align: top;\n",
              "    }\n",
              "\n",
              "    .dataframe thead th {\n",
              "        text-align: right;\n",
              "    }\n",
              "</style>\n",
              "<table border=\"1\" class=\"dataframe\">\n",
              "  <thead>\n",
              "    <tr style=\"text-align: right;\">\n",
              "      <th></th>\n",
              "      <th>sku</th>\n",
              "      <th>product_name</th>\n",
              "      <th>total_comment_num</th>\n",
              "      <th>date_key</th>\n",
              "    </tr>\n",
              "  </thead>\n",
              "  <tbody>\n",
              "    <tr>\n",
              "      <th>271092</th>\n",
              "      <td>1957784466</td>\n",
              "      <td>【福州仓发货】诺优能牛栏（Nutrilon）深度水解奶粉 深度水解PEPTI 1段 新版 低...</td>\n",
              "      <td>2000.0</td>\n",
              "      <td>20220216</td>\n",
              "    </tr>\n",
              "    <tr>\n",
              "      <th>271093</th>\n",
              "      <td>10032773438610</td>\n",
              "      <td>【新鲜日期】雀巢学生奶粉成年儿童中小学生营养牛奶粉冲饮6岁7以上早餐大学生 400g*4盒【...</td>\n",
              "      <td>NaN</td>\n",
              "      <td>20220206</td>\n",
              "    </tr>\n",
              "    <tr>\n",
              "      <th>271094</th>\n",
              "      <td>100007066678</td>\n",
              "      <td>京东超市 惠氏启赋（Wyeth illuma）亲和人体婴儿配方奶粉1段（0-6月适用） 35...</td>\n",
              "      <td>50000.0</td>\n",
              "      <td>20220123</td>\n",
              "    </tr>\n",
              "    <tr>\n",
              "      <th>271095</th>\n",
              "      <td>1231001</td>\n",
              "      <td>佳贝艾特（Kabrita）悦白幼儿配方奶粉 3段(1-3岁婴幼儿适用)150克（荷兰原装进口）</td>\n",
              "      <td>NaN</td>\n",
              "      <td>20220206</td>\n",
              "    </tr>\n",
              "    <tr>\n",
              "      <th>271096</th>\n",
              "      <td>62224578554</td>\n",
              "      <td>诺茵美 新疆奶源骆驼奶粉全脂中老年成人孕妇儿童学生新鲜营养富硒高钙高铁配方驼乳粉独立包装 富...</td>\n",
              "      <td>NaN</td>\n",
              "      <td>20220214</td>\n",
              "    </tr>\n",
              "  </tbody>\n",
              "</table>\n",
              "</div>\n",
              "      <button class=\"colab-df-convert\" onclick=\"convertToInteractive('df-8c1b7a40-c231-4fda-aa2f-81d1dc65c739')\"\n",
              "              title=\"Convert this dataframe to an interactive table.\"\n",
              "              style=\"display:none;\">\n",
              "        \n",
              "  <svg xmlns=\"http://www.w3.org/2000/svg\" height=\"24px\"viewBox=\"0 0 24 24\"\n",
              "       width=\"24px\">\n",
              "    <path d=\"M0 0h24v24H0V0z\" fill=\"none\"/>\n",
              "    <path d=\"M18.56 5.44l.94 2.06.94-2.06 2.06-.94-2.06-.94-.94-2.06-.94 2.06-2.06.94zm-11 1L8.5 8.5l.94-2.06 2.06-.94-2.06-.94L8.5 2.5l-.94 2.06-2.06.94zm10 10l.94 2.06.94-2.06 2.06-.94-2.06-.94-.94-2.06-.94 2.06-2.06.94z\"/><path d=\"M17.41 7.96l-1.37-1.37c-.4-.4-.92-.59-1.43-.59-.52 0-1.04.2-1.43.59L10.3 9.45l-7.72 7.72c-.78.78-.78 2.05 0 2.83L4 21.41c.39.39.9.59 1.41.59.51 0 1.02-.2 1.41-.59l7.78-7.78 2.81-2.81c.8-.78.8-2.07 0-2.86zM5.41 20L4 18.59l7.72-7.72 1.47 1.35L5.41 20z\"/>\n",
              "  </svg>\n",
              "      </button>\n",
              "      \n",
              "  <style>\n",
              "    .colab-df-container {\n",
              "      display:flex;\n",
              "      flex-wrap:wrap;\n",
              "      gap: 12px;\n",
              "    }\n",
              "\n",
              "    .colab-df-convert {\n",
              "      background-color: #E8F0FE;\n",
              "      border: none;\n",
              "      border-radius: 50%;\n",
              "      cursor: pointer;\n",
              "      display: none;\n",
              "      fill: #1967D2;\n",
              "      height: 32px;\n",
              "      padding: 0 0 0 0;\n",
              "      width: 32px;\n",
              "    }\n",
              "\n",
              "    .colab-df-convert:hover {\n",
              "      background-color: #E2EBFA;\n",
              "      box-shadow: 0px 1px 2px rgba(60, 64, 67, 0.3), 0px 1px 3px 1px rgba(60, 64, 67, 0.15);\n",
              "      fill: #174EA6;\n",
              "    }\n",
              "\n",
              "    [theme=dark] .colab-df-convert {\n",
              "      background-color: #3B4455;\n",
              "      fill: #D2E3FC;\n",
              "    }\n",
              "\n",
              "    [theme=dark] .colab-df-convert:hover {\n",
              "      background-color: #434B5C;\n",
              "      box-shadow: 0px 1px 3px 1px rgba(0, 0, 0, 0.15);\n",
              "      filter: drop-shadow(0px 1px 2px rgba(0, 0, 0, 0.3));\n",
              "      fill: #FFFFFF;\n",
              "    }\n",
              "  </style>\n",
              "\n",
              "      <script>\n",
              "        const buttonEl =\n",
              "          document.querySelector('#df-8c1b7a40-c231-4fda-aa2f-81d1dc65c739 button.colab-df-convert');\n",
              "        buttonEl.style.display =\n",
              "          google.colab.kernel.accessAllowed ? 'block' : 'none';\n",
              "\n",
              "        async function convertToInteractive(key) {\n",
              "          const element = document.querySelector('#df-8c1b7a40-c231-4fda-aa2f-81d1dc65c739');\n",
              "          const dataTable =\n",
              "            await google.colab.kernel.invokeFunction('convertToInteractive',\n",
              "                                                     [key], {});\n",
              "          if (!dataTable) return;\n",
              "\n",
              "          const docLinkHtml = 'Like what you see? Visit the ' +\n",
              "            '<a target=\"_blank\" href=https://colab.research.google.com/notebooks/data_table.ipynb>data table notebook</a>'\n",
              "            + ' to learn more about interactive tables.';\n",
              "          element.innerHTML = '';\n",
              "          dataTable['output_type'] = 'display_data';\n",
              "          await google.colab.output.renderOutput(dataTable, element);\n",
              "          const docLink = document.createElement('div');\n",
              "          docLink.innerHTML = docLinkHtml;\n",
              "          element.appendChild(docLink);\n",
              "        }\n",
              "      </script>\n",
              "    </div>\n",
              "  </div>\n",
              "  "
            ]
          },
          "metadata": {},
          "execution_count": 162
        }
      ]
    },
    {
      "cell_type": "code",
      "source": [
        "x_data1.dtypes"
      ],
      "metadata": {
        "colab": {
          "base_uri": "https://localhost:8080/"
        },
        "id": "zrzxE5D7QBLr",
        "outputId": "6dcb1619-5c81-4b73-a718-a1458769a3da"
      },
      "execution_count": 163,
      "outputs": [
        {
          "output_type": "execute_result",
          "data": {
            "text/plain": [
              "sku                    int64\n",
              "product_name          object\n",
              "total_comment_num    float64\n",
              "date_key               int64\n",
              "dtype: object"
            ]
          },
          "metadata": {},
          "execution_count": 163
        }
      ]
    },
    {
      "cell_type": "code",
      "source": [
        "x_data1.sort_values(by = 'sku')\n",
        "x_data1.head()"
      ],
      "metadata": {
        "colab": {
          "base_uri": "https://localhost:8080/",
          "height": 206
        },
        "id": "Fn0fIZm-Q5M2",
        "outputId": "5722639f-5abe-47fe-9c7d-1668f5a56922"
      },
      "execution_count": 164,
      "outputs": [
        {
          "output_type": "execute_result",
          "data": {
            "text/plain": [
              "              sku                                       product_name  \\\n",
              "0     68344574739  美可卓（Maxigenes）澳洲进口蓝胖子奶粉成人老年孕妇奶粉青少年学生儿童奶粉 全脂 5罐...   \n",
              "1         4712764           雀巢（nestle）能恩 较大婴儿配方奶粉 2段（6-12个月婴儿适用）400克   \n",
              "2    100031906240         沙漠白金骆驼奶粉新疆正宗无蔗糖益生菌纯骆驼奶中老年儿童青少年孕妇成人双峰驼乳粉单条装   \n",
              "3  10026385433422                            英贝健 牛初乳益生菌骆驼 骆驼奶营养粉(2罐)   \n",
              "4     31217400330    伊利 高蛋白高钙脱脂奶粉450g袋装 成人冲饮奶粉中老年营养奶 女士低脂早餐牛奶粉 独立小包装   \n",
              "\n",
              "   total_comment_num  date_key  \n",
              "0                NaN  20220206  \n",
              "1                NaN  20220220  \n",
              "2                NaN  20220123  \n",
              "3                NaN  20220214  \n",
              "4                NaN  20220109  "
            ],
            "text/html": [
              "\n",
              "  <div id=\"df-f1863c0c-0d4a-4ce0-ba70-b3b68cf8664e\">\n",
              "    <div class=\"colab-df-container\">\n",
              "      <div>\n",
              "<style scoped>\n",
              "    .dataframe tbody tr th:only-of-type {\n",
              "        vertical-align: middle;\n",
              "    }\n",
              "\n",
              "    .dataframe tbody tr th {\n",
              "        vertical-align: top;\n",
              "    }\n",
              "\n",
              "    .dataframe thead th {\n",
              "        text-align: right;\n",
              "    }\n",
              "</style>\n",
              "<table border=\"1\" class=\"dataframe\">\n",
              "  <thead>\n",
              "    <tr style=\"text-align: right;\">\n",
              "      <th></th>\n",
              "      <th>sku</th>\n",
              "      <th>product_name</th>\n",
              "      <th>total_comment_num</th>\n",
              "      <th>date_key</th>\n",
              "    </tr>\n",
              "  </thead>\n",
              "  <tbody>\n",
              "    <tr>\n",
              "      <th>0</th>\n",
              "      <td>68344574739</td>\n",
              "      <td>美可卓（Maxigenes）澳洲进口蓝胖子奶粉成人老年孕妇奶粉青少年学生儿童奶粉 全脂 5罐...</td>\n",
              "      <td>NaN</td>\n",
              "      <td>20220206</td>\n",
              "    </tr>\n",
              "    <tr>\n",
              "      <th>1</th>\n",
              "      <td>4712764</td>\n",
              "      <td>雀巢（nestle）能恩 较大婴儿配方奶粉 2段（6-12个月婴儿适用）400克</td>\n",
              "      <td>NaN</td>\n",
              "      <td>20220220</td>\n",
              "    </tr>\n",
              "    <tr>\n",
              "      <th>2</th>\n",
              "      <td>100031906240</td>\n",
              "      <td>沙漠白金骆驼奶粉新疆正宗无蔗糖益生菌纯骆驼奶中老年儿童青少年孕妇成人双峰驼乳粉单条装</td>\n",
              "      <td>NaN</td>\n",
              "      <td>20220123</td>\n",
              "    </tr>\n",
              "    <tr>\n",
              "      <th>3</th>\n",
              "      <td>10026385433422</td>\n",
              "      <td>英贝健 牛初乳益生菌骆驼 骆驼奶营养粉(2罐)</td>\n",
              "      <td>NaN</td>\n",
              "      <td>20220214</td>\n",
              "    </tr>\n",
              "    <tr>\n",
              "      <th>4</th>\n",
              "      <td>31217400330</td>\n",
              "      <td>伊利 高蛋白高钙脱脂奶粉450g袋装 成人冲饮奶粉中老年营养奶 女士低脂早餐牛奶粉 独立小包装</td>\n",
              "      <td>NaN</td>\n",
              "      <td>20220109</td>\n",
              "    </tr>\n",
              "  </tbody>\n",
              "</table>\n",
              "</div>\n",
              "      <button class=\"colab-df-convert\" onclick=\"convertToInteractive('df-f1863c0c-0d4a-4ce0-ba70-b3b68cf8664e')\"\n",
              "              title=\"Convert this dataframe to an interactive table.\"\n",
              "              style=\"display:none;\">\n",
              "        \n",
              "  <svg xmlns=\"http://www.w3.org/2000/svg\" height=\"24px\"viewBox=\"0 0 24 24\"\n",
              "       width=\"24px\">\n",
              "    <path d=\"M0 0h24v24H0V0z\" fill=\"none\"/>\n",
              "    <path d=\"M18.56 5.44l.94 2.06.94-2.06 2.06-.94-2.06-.94-.94-2.06-.94 2.06-2.06.94zm-11 1L8.5 8.5l.94-2.06 2.06-.94-2.06-.94L8.5 2.5l-.94 2.06-2.06.94zm10 10l.94 2.06.94-2.06 2.06-.94-2.06-.94-.94-2.06-.94 2.06-2.06.94z\"/><path d=\"M17.41 7.96l-1.37-1.37c-.4-.4-.92-.59-1.43-.59-.52 0-1.04.2-1.43.59L10.3 9.45l-7.72 7.72c-.78.78-.78 2.05 0 2.83L4 21.41c.39.39.9.59 1.41.59.51 0 1.02-.2 1.41-.59l7.78-7.78 2.81-2.81c.8-.78.8-2.07 0-2.86zM5.41 20L4 18.59l7.72-7.72 1.47 1.35L5.41 20z\"/>\n",
              "  </svg>\n",
              "      </button>\n",
              "      \n",
              "  <style>\n",
              "    .colab-df-container {\n",
              "      display:flex;\n",
              "      flex-wrap:wrap;\n",
              "      gap: 12px;\n",
              "    }\n",
              "\n",
              "    .colab-df-convert {\n",
              "      background-color: #E8F0FE;\n",
              "      border: none;\n",
              "      border-radius: 50%;\n",
              "      cursor: pointer;\n",
              "      display: none;\n",
              "      fill: #1967D2;\n",
              "      height: 32px;\n",
              "      padding: 0 0 0 0;\n",
              "      width: 32px;\n",
              "    }\n",
              "\n",
              "    .colab-df-convert:hover {\n",
              "      background-color: #E2EBFA;\n",
              "      box-shadow: 0px 1px 2px rgba(60, 64, 67, 0.3), 0px 1px 3px 1px rgba(60, 64, 67, 0.15);\n",
              "      fill: #174EA6;\n",
              "    }\n",
              "\n",
              "    [theme=dark] .colab-df-convert {\n",
              "      background-color: #3B4455;\n",
              "      fill: #D2E3FC;\n",
              "    }\n",
              "\n",
              "    [theme=dark] .colab-df-convert:hover {\n",
              "      background-color: #434B5C;\n",
              "      box-shadow: 0px 1px 3px 1px rgba(0, 0, 0, 0.15);\n",
              "      filter: drop-shadow(0px 1px 2px rgba(0, 0, 0, 0.3));\n",
              "      fill: #FFFFFF;\n",
              "    }\n",
              "  </style>\n",
              "\n",
              "      <script>\n",
              "        const buttonEl =\n",
              "          document.querySelector('#df-f1863c0c-0d4a-4ce0-ba70-b3b68cf8664e button.colab-df-convert');\n",
              "        buttonEl.style.display =\n",
              "          google.colab.kernel.accessAllowed ? 'block' : 'none';\n",
              "\n",
              "        async function convertToInteractive(key) {\n",
              "          const element = document.querySelector('#df-f1863c0c-0d4a-4ce0-ba70-b3b68cf8664e');\n",
              "          const dataTable =\n",
              "            await google.colab.kernel.invokeFunction('convertToInteractive',\n",
              "                                                     [key], {});\n",
              "          if (!dataTable) return;\n",
              "\n",
              "          const docLinkHtml = 'Like what you see? Visit the ' +\n",
              "            '<a target=\"_blank\" href=https://colab.research.google.com/notebooks/data_table.ipynb>data table notebook</a>'\n",
              "            + ' to learn more about interactive tables.';\n",
              "          element.innerHTML = '';\n",
              "          dataTable['output_type'] = 'display_data';\n",
              "          await google.colab.output.renderOutput(dataTable, element);\n",
              "          const docLink = document.createElement('div');\n",
              "          docLink.innerHTML = docLinkHtml;\n",
              "          element.appendChild(docLink);\n",
              "        }\n",
              "      </script>\n",
              "    </div>\n",
              "  </div>\n",
              "  "
            ]
          },
          "metadata": {},
          "execution_count": 164
        }
      ]
    },
    {
      "cell_type": "code",
      "source": [
        "x_data1['total_comment_num'].describe()"
      ],
      "metadata": {
        "colab": {
          "base_uri": "https://localhost:8080/"
        },
        "id": "X1KeugNzRCjn",
        "outputId": "7db588dc-fdc2-41b5-e602-1c690fd55352"
      },
      "execution_count": 165,
      "outputs": [
        {
          "output_type": "execute_result",
          "data": {
            "text/plain": [
              "count    1.178540e+05\n",
              "mean     4.497169e+03\n",
              "std      3.605727e+04\n",
              "min      0.000000e+00\n",
              "25%      0.000000e+00\n",
              "50%      1.000000e+02\n",
              "75%      1.000000e+03\n",
              "max      1.654155e+06\n",
              "Name: total_comment_num, dtype: float64"
            ]
          },
          "metadata": {},
          "execution_count": 165
        }
      ]
    },
    {
      "cell_type": "code",
      "source": [
        "x_data1['total_comment_num'].value_counts()"
      ],
      "metadata": {
        "colab": {
          "base_uri": "https://localhost:8080/"
        },
        "id": "ItQXvPijRLbx",
        "outputId": "f6bc4b32-0674-44c8-e5f7-5bc42d1133e1"
      },
      "execution_count": 166,
      "outputs": [
        {
          "output_type": "execute_result",
          "data": {
            "text/plain": [
              "0.0         32321\n",
              "200.0       11921\n",
              "2000.0       8685\n",
              "1000.0       8640\n",
              "500.0        8609\n",
              "            ...  \n",
              "979.0           1\n",
              "17008.0         1\n",
              "703383.0        1\n",
              "144357.0        1\n",
              "3537.0          1\n",
              "Name: total_comment_num, Length: 2245, dtype: int64"
            ]
          },
          "metadata": {},
          "execution_count": 166
        }
      ]
    },
    {
      "cell_type": "code",
      "source": [
        "print(f'There are total', x_data['total_comment_num'].isnull().sum() , 'Null values in this dataset')"
      ],
      "metadata": {
        "colab": {
          "base_uri": "https://localhost:8080/"
        },
        "id": "aflq2u8GRYoD",
        "outputId": "d30ef40c-725c-4d77-a802-7f9a38ab2917"
      },
      "execution_count": 167,
      "outputs": [
        {
          "output_type": "stream",
          "name": "stdout",
          "text": [
            "There are total 153243 Null values in this dataset\n"
          ]
        }
      ]
    },
    {
      "cell_type": "code",
      "source": [
        "# Let's drop the rows where 'total_comment_num' is NULL/NaN/0\n",
        "x_data1 = x_data1.dropna()\n",
        "x_data1.shape"
      ],
      "metadata": {
        "colab": {
          "base_uri": "https://localhost:8080/"
        },
        "id": "CeOMET9DSFvp",
        "outputId": "e7b0725a-e462-46b9-f220-85c5688b6488"
      },
      "execution_count": 168,
      "outputs": [
        {
          "output_type": "execute_result",
          "data": {
            "text/plain": [
              "(117854, 4)"
            ]
          },
          "metadata": {},
          "execution_count": 168
        }
      ]
    },
    {
      "cell_type": "code",
      "source": [
        "x_data1.head()"
      ],
      "metadata": {
        "colab": {
          "base_uri": "https://localhost:8080/",
          "height": 206
        },
        "id": "3RNwkkcvTN2T",
        "outputId": "e3db7f7e-6e0f-4995-b87f-05a0193d013b"
      },
      "execution_count": 169,
      "outputs": [
        {
          "output_type": "execute_result",
          "data": {
            "text/plain": [
              "               sku                                       product_name  \\\n",
              "9      19763015802  雀巢（Nestle） 怡养 中老年 成人高钙营养奶粉850g//克 成人高钙中老年人早餐冲饮...   \n",
              "10     61067890457   （咨询享惊喜）合生元派星（原超级金装）婴幼儿配方奶粉2段800g（6-12月）法国原装进口 6罐   \n",
              "15  10036373314205  飞鹤奶粉成人 牧场经典1962加锌铁钙奶粉 儿童奶粉6岁以上高钙营养早餐奶粉 罐装900g ...   \n",
              "17  10032296953247  京东国际J仓配送美可卓蓝胖子奶粉 全脂高钙奶粉青少年人 成人老年儿童蓝妹子脱脂牛奶无蔗糖原装...   \n",
              "20  10042188217129                    澳洲美可卓蓝胖子全脂牛奶粉1kg青少年学生中老年孕妇补钙早餐奶   \n",
              "\n",
              "    total_comment_num  date_key  \n",
              "9              1000.0  20220110  \n",
              "10              500.0  20220117  \n",
              "15               71.0  20220206  \n",
              "17               41.0  20220123  \n",
              "20                0.0  20220117  "
            ],
            "text/html": [
              "\n",
              "  <div id=\"df-a2dc02f6-1bf3-4b1e-94b1-c11ab776f288\">\n",
              "    <div class=\"colab-df-container\">\n",
              "      <div>\n",
              "<style scoped>\n",
              "    .dataframe tbody tr th:only-of-type {\n",
              "        vertical-align: middle;\n",
              "    }\n",
              "\n",
              "    .dataframe tbody tr th {\n",
              "        vertical-align: top;\n",
              "    }\n",
              "\n",
              "    .dataframe thead th {\n",
              "        text-align: right;\n",
              "    }\n",
              "</style>\n",
              "<table border=\"1\" class=\"dataframe\">\n",
              "  <thead>\n",
              "    <tr style=\"text-align: right;\">\n",
              "      <th></th>\n",
              "      <th>sku</th>\n",
              "      <th>product_name</th>\n",
              "      <th>total_comment_num</th>\n",
              "      <th>date_key</th>\n",
              "    </tr>\n",
              "  </thead>\n",
              "  <tbody>\n",
              "    <tr>\n",
              "      <th>9</th>\n",
              "      <td>19763015802</td>\n",
              "      <td>雀巢（Nestle） 怡养 中老年 成人高钙营养奶粉850g//克 成人高钙中老年人早餐冲饮...</td>\n",
              "      <td>1000.0</td>\n",
              "      <td>20220110</td>\n",
              "    </tr>\n",
              "    <tr>\n",
              "      <th>10</th>\n",
              "      <td>61067890457</td>\n",
              "      <td>（咨询享惊喜）合生元派星（原超级金装）婴幼儿配方奶粉2段800g（6-12月）法国原装进口 6罐</td>\n",
              "      <td>500.0</td>\n",
              "      <td>20220117</td>\n",
              "    </tr>\n",
              "    <tr>\n",
              "      <th>15</th>\n",
              "      <td>10036373314205</td>\n",
              "      <td>飞鹤奶粉成人 牧场经典1962加锌铁钙奶粉 儿童奶粉6岁以上高钙营养早餐奶粉 罐装900g ...</td>\n",
              "      <td>71.0</td>\n",
              "      <td>20220206</td>\n",
              "    </tr>\n",
              "    <tr>\n",
              "      <th>17</th>\n",
              "      <td>10032296953247</td>\n",
              "      <td>京东国际J仓配送美可卓蓝胖子奶粉 全脂高钙奶粉青少年人 成人老年儿童蓝妹子脱脂牛奶无蔗糖原装...</td>\n",
              "      <td>41.0</td>\n",
              "      <td>20220123</td>\n",
              "    </tr>\n",
              "    <tr>\n",
              "      <th>20</th>\n",
              "      <td>10042188217129</td>\n",
              "      <td>澳洲美可卓蓝胖子全脂牛奶粉1kg青少年学生中老年孕妇补钙早餐奶</td>\n",
              "      <td>0.0</td>\n",
              "      <td>20220117</td>\n",
              "    </tr>\n",
              "  </tbody>\n",
              "</table>\n",
              "</div>\n",
              "      <button class=\"colab-df-convert\" onclick=\"convertToInteractive('df-a2dc02f6-1bf3-4b1e-94b1-c11ab776f288')\"\n",
              "              title=\"Convert this dataframe to an interactive table.\"\n",
              "              style=\"display:none;\">\n",
              "        \n",
              "  <svg xmlns=\"http://www.w3.org/2000/svg\" height=\"24px\"viewBox=\"0 0 24 24\"\n",
              "       width=\"24px\">\n",
              "    <path d=\"M0 0h24v24H0V0z\" fill=\"none\"/>\n",
              "    <path d=\"M18.56 5.44l.94 2.06.94-2.06 2.06-.94-2.06-.94-.94-2.06-.94 2.06-2.06.94zm-11 1L8.5 8.5l.94-2.06 2.06-.94-2.06-.94L8.5 2.5l-.94 2.06-2.06.94zm10 10l.94 2.06.94-2.06 2.06-.94-2.06-.94-.94-2.06-.94 2.06-2.06.94z\"/><path d=\"M17.41 7.96l-1.37-1.37c-.4-.4-.92-.59-1.43-.59-.52 0-1.04.2-1.43.59L10.3 9.45l-7.72 7.72c-.78.78-.78 2.05 0 2.83L4 21.41c.39.39.9.59 1.41.59.51 0 1.02-.2 1.41-.59l7.78-7.78 2.81-2.81c.8-.78.8-2.07 0-2.86zM5.41 20L4 18.59l7.72-7.72 1.47 1.35L5.41 20z\"/>\n",
              "  </svg>\n",
              "      </button>\n",
              "      \n",
              "  <style>\n",
              "    .colab-df-container {\n",
              "      display:flex;\n",
              "      flex-wrap:wrap;\n",
              "      gap: 12px;\n",
              "    }\n",
              "\n",
              "    .colab-df-convert {\n",
              "      background-color: #E8F0FE;\n",
              "      border: none;\n",
              "      border-radius: 50%;\n",
              "      cursor: pointer;\n",
              "      display: none;\n",
              "      fill: #1967D2;\n",
              "      height: 32px;\n",
              "      padding: 0 0 0 0;\n",
              "      width: 32px;\n",
              "    }\n",
              "\n",
              "    .colab-df-convert:hover {\n",
              "      background-color: #E2EBFA;\n",
              "      box-shadow: 0px 1px 2px rgba(60, 64, 67, 0.3), 0px 1px 3px 1px rgba(60, 64, 67, 0.15);\n",
              "      fill: #174EA6;\n",
              "    }\n",
              "\n",
              "    [theme=dark] .colab-df-convert {\n",
              "      background-color: #3B4455;\n",
              "      fill: #D2E3FC;\n",
              "    }\n",
              "\n",
              "    [theme=dark] .colab-df-convert:hover {\n",
              "      background-color: #434B5C;\n",
              "      box-shadow: 0px 1px 3px 1px rgba(0, 0, 0, 0.15);\n",
              "      filter: drop-shadow(0px 1px 2px rgba(0, 0, 0, 0.3));\n",
              "      fill: #FFFFFF;\n",
              "    }\n",
              "  </style>\n",
              "\n",
              "      <script>\n",
              "        const buttonEl =\n",
              "          document.querySelector('#df-a2dc02f6-1bf3-4b1e-94b1-c11ab776f288 button.colab-df-convert');\n",
              "        buttonEl.style.display =\n",
              "          google.colab.kernel.accessAllowed ? 'block' : 'none';\n",
              "\n",
              "        async function convertToInteractive(key) {\n",
              "          const element = document.querySelector('#df-a2dc02f6-1bf3-4b1e-94b1-c11ab776f288');\n",
              "          const dataTable =\n",
              "            await google.colab.kernel.invokeFunction('convertToInteractive',\n",
              "                                                     [key], {});\n",
              "          if (!dataTable) return;\n",
              "\n",
              "          const docLinkHtml = 'Like what you see? Visit the ' +\n",
              "            '<a target=\"_blank\" href=https://colab.research.google.com/notebooks/data_table.ipynb>data table notebook</a>'\n",
              "            + ' to learn more about interactive tables.';\n",
              "          element.innerHTML = '';\n",
              "          dataTable['output_type'] = 'display_data';\n",
              "          await google.colab.output.renderOutput(dataTable, element);\n",
              "          const docLink = document.createElement('div');\n",
              "          docLink.innerHTML = docLinkHtml;\n",
              "          element.appendChild(docLink);\n",
              "        }\n",
              "      </script>\n",
              "    </div>\n",
              "  </div>\n",
              "  "
            ]
          },
          "metadata": {},
          "execution_count": 169
        }
      ]
    },
    {
      "cell_type": "code",
      "source": [
        "#Let's Conver the date_key into date format\n",
        "from datetime import datetime\n",
        "x_data1['date_key'] = pd.to_datetime(x_data1['date_key'], format=\"%Y%m%d\")\n",
        "x_data1.head()"
      ],
      "metadata": {
        "colab": {
          "base_uri": "https://localhost:8080/",
          "height": 206
        },
        "id": "C5qer2oWTUcw",
        "outputId": "e3403634-b878-42bc-9e91-d35b89b26924"
      },
      "execution_count": 170,
      "outputs": [
        {
          "output_type": "execute_result",
          "data": {
            "text/plain": [
              "               sku                                       product_name  \\\n",
              "9      19763015802  雀巢（Nestle） 怡养 中老年 成人高钙营养奶粉850g//克 成人高钙中老年人早餐冲饮...   \n",
              "10     61067890457   （咨询享惊喜）合生元派星（原超级金装）婴幼儿配方奶粉2段800g（6-12月）法国原装进口 6罐   \n",
              "15  10036373314205  飞鹤奶粉成人 牧场经典1962加锌铁钙奶粉 儿童奶粉6岁以上高钙营养早餐奶粉 罐装900g ...   \n",
              "17  10032296953247  京东国际J仓配送美可卓蓝胖子奶粉 全脂高钙奶粉青少年人 成人老年儿童蓝妹子脱脂牛奶无蔗糖原装...   \n",
              "20  10042188217129                    澳洲美可卓蓝胖子全脂牛奶粉1kg青少年学生中老年孕妇补钙早餐奶   \n",
              "\n",
              "    total_comment_num   date_key  \n",
              "9              1000.0 2022-01-10  \n",
              "10              500.0 2022-01-17  \n",
              "15               71.0 2022-02-06  \n",
              "17               41.0 2022-01-23  \n",
              "20                0.0 2022-01-17  "
            ],
            "text/html": [
              "\n",
              "  <div id=\"df-8b542ac8-ef78-42ee-bf69-86f78dbde6c4\">\n",
              "    <div class=\"colab-df-container\">\n",
              "      <div>\n",
              "<style scoped>\n",
              "    .dataframe tbody tr th:only-of-type {\n",
              "        vertical-align: middle;\n",
              "    }\n",
              "\n",
              "    .dataframe tbody tr th {\n",
              "        vertical-align: top;\n",
              "    }\n",
              "\n",
              "    .dataframe thead th {\n",
              "        text-align: right;\n",
              "    }\n",
              "</style>\n",
              "<table border=\"1\" class=\"dataframe\">\n",
              "  <thead>\n",
              "    <tr style=\"text-align: right;\">\n",
              "      <th></th>\n",
              "      <th>sku</th>\n",
              "      <th>product_name</th>\n",
              "      <th>total_comment_num</th>\n",
              "      <th>date_key</th>\n",
              "    </tr>\n",
              "  </thead>\n",
              "  <tbody>\n",
              "    <tr>\n",
              "      <th>9</th>\n",
              "      <td>19763015802</td>\n",
              "      <td>雀巢（Nestle） 怡养 中老年 成人高钙营养奶粉850g//克 成人高钙中老年人早餐冲饮...</td>\n",
              "      <td>1000.0</td>\n",
              "      <td>2022-01-10</td>\n",
              "    </tr>\n",
              "    <tr>\n",
              "      <th>10</th>\n",
              "      <td>61067890457</td>\n",
              "      <td>（咨询享惊喜）合生元派星（原超级金装）婴幼儿配方奶粉2段800g（6-12月）法国原装进口 6罐</td>\n",
              "      <td>500.0</td>\n",
              "      <td>2022-01-17</td>\n",
              "    </tr>\n",
              "    <tr>\n",
              "      <th>15</th>\n",
              "      <td>10036373314205</td>\n",
              "      <td>飞鹤奶粉成人 牧场经典1962加锌铁钙奶粉 儿童奶粉6岁以上高钙营养早餐奶粉 罐装900g ...</td>\n",
              "      <td>71.0</td>\n",
              "      <td>2022-02-06</td>\n",
              "    </tr>\n",
              "    <tr>\n",
              "      <th>17</th>\n",
              "      <td>10032296953247</td>\n",
              "      <td>京东国际J仓配送美可卓蓝胖子奶粉 全脂高钙奶粉青少年人 成人老年儿童蓝妹子脱脂牛奶无蔗糖原装...</td>\n",
              "      <td>41.0</td>\n",
              "      <td>2022-01-23</td>\n",
              "    </tr>\n",
              "    <tr>\n",
              "      <th>20</th>\n",
              "      <td>10042188217129</td>\n",
              "      <td>澳洲美可卓蓝胖子全脂牛奶粉1kg青少年学生中老年孕妇补钙早餐奶</td>\n",
              "      <td>0.0</td>\n",
              "      <td>2022-01-17</td>\n",
              "    </tr>\n",
              "  </tbody>\n",
              "</table>\n",
              "</div>\n",
              "      <button class=\"colab-df-convert\" onclick=\"convertToInteractive('df-8b542ac8-ef78-42ee-bf69-86f78dbde6c4')\"\n",
              "              title=\"Convert this dataframe to an interactive table.\"\n",
              "              style=\"display:none;\">\n",
              "        \n",
              "  <svg xmlns=\"http://www.w3.org/2000/svg\" height=\"24px\"viewBox=\"0 0 24 24\"\n",
              "       width=\"24px\">\n",
              "    <path d=\"M0 0h24v24H0V0z\" fill=\"none\"/>\n",
              "    <path d=\"M18.56 5.44l.94 2.06.94-2.06 2.06-.94-2.06-.94-.94-2.06-.94 2.06-2.06.94zm-11 1L8.5 8.5l.94-2.06 2.06-.94-2.06-.94L8.5 2.5l-.94 2.06-2.06.94zm10 10l.94 2.06.94-2.06 2.06-.94-2.06-.94-.94-2.06-.94 2.06-2.06.94z\"/><path d=\"M17.41 7.96l-1.37-1.37c-.4-.4-.92-.59-1.43-.59-.52 0-1.04.2-1.43.59L10.3 9.45l-7.72 7.72c-.78.78-.78 2.05 0 2.83L4 21.41c.39.39.9.59 1.41.59.51 0 1.02-.2 1.41-.59l7.78-7.78 2.81-2.81c.8-.78.8-2.07 0-2.86zM5.41 20L4 18.59l7.72-7.72 1.47 1.35L5.41 20z\"/>\n",
              "  </svg>\n",
              "      </button>\n",
              "      \n",
              "  <style>\n",
              "    .colab-df-container {\n",
              "      display:flex;\n",
              "      flex-wrap:wrap;\n",
              "      gap: 12px;\n",
              "    }\n",
              "\n",
              "    .colab-df-convert {\n",
              "      background-color: #E8F0FE;\n",
              "      border: none;\n",
              "      border-radius: 50%;\n",
              "      cursor: pointer;\n",
              "      display: none;\n",
              "      fill: #1967D2;\n",
              "      height: 32px;\n",
              "      padding: 0 0 0 0;\n",
              "      width: 32px;\n",
              "    }\n",
              "\n",
              "    .colab-df-convert:hover {\n",
              "      background-color: #E2EBFA;\n",
              "      box-shadow: 0px 1px 2px rgba(60, 64, 67, 0.3), 0px 1px 3px 1px rgba(60, 64, 67, 0.15);\n",
              "      fill: #174EA6;\n",
              "    }\n",
              "\n",
              "    [theme=dark] .colab-df-convert {\n",
              "      background-color: #3B4455;\n",
              "      fill: #D2E3FC;\n",
              "    }\n",
              "\n",
              "    [theme=dark] .colab-df-convert:hover {\n",
              "      background-color: #434B5C;\n",
              "      box-shadow: 0px 1px 3px 1px rgba(0, 0, 0, 0.15);\n",
              "      filter: drop-shadow(0px 1px 2px rgba(0, 0, 0, 0.3));\n",
              "      fill: #FFFFFF;\n",
              "    }\n",
              "  </style>\n",
              "\n",
              "      <script>\n",
              "        const buttonEl =\n",
              "          document.querySelector('#df-8b542ac8-ef78-42ee-bf69-86f78dbde6c4 button.colab-df-convert');\n",
              "        buttonEl.style.display =\n",
              "          google.colab.kernel.accessAllowed ? 'block' : 'none';\n",
              "\n",
              "        async function convertToInteractive(key) {\n",
              "          const element = document.querySelector('#df-8b542ac8-ef78-42ee-bf69-86f78dbde6c4');\n",
              "          const dataTable =\n",
              "            await google.colab.kernel.invokeFunction('convertToInteractive',\n",
              "                                                     [key], {});\n",
              "          if (!dataTable) return;\n",
              "\n",
              "          const docLinkHtml = 'Like what you see? Visit the ' +\n",
              "            '<a target=\"_blank\" href=https://colab.research.google.com/notebooks/data_table.ipynb>data table notebook</a>'\n",
              "            + ' to learn more about interactive tables.';\n",
              "          element.innerHTML = '';\n",
              "          dataTable['output_type'] = 'display_data';\n",
              "          await google.colab.output.renderOutput(dataTable, element);\n",
              "          const docLink = document.createElement('div');\n",
              "          docLink.innerHTML = docLinkHtml;\n",
              "          element.appendChild(docLink);\n",
              "        }\n",
              "      </script>\n",
              "    </div>\n",
              "  </div>\n",
              "  "
            ]
          },
          "metadata": {},
          "execution_count": 170
        }
      ]
    },
    {
      "cell_type": "code",
      "source": [
        "x_data1['total_comment_num'].describe()"
      ],
      "metadata": {
        "colab": {
          "base_uri": "https://localhost:8080/"
        },
        "id": "5oEEHapTUDa6",
        "outputId": "5d6746e8-d482-4886-f1d1-4fbca39c1485"
      },
      "execution_count": 171,
      "outputs": [
        {
          "output_type": "execute_result",
          "data": {
            "text/plain": [
              "count    1.178540e+05\n",
              "mean     4.497169e+03\n",
              "std      3.605727e+04\n",
              "min      0.000000e+00\n",
              "25%      0.000000e+00\n",
              "50%      1.000000e+02\n",
              "75%      1.000000e+03\n",
              "max      1.654155e+06\n",
              "Name: total_comment_num, dtype: float64"
            ]
          },
          "metadata": {},
          "execution_count": 171
        }
      ]
    },
    {
      "cell_type": "code",
      "source": [
        "x_data1.dtypes"
      ],
      "metadata": {
        "colab": {
          "base_uri": "https://localhost:8080/"
        },
        "id": "yCw0VhiK68Yq",
        "outputId": "ccd6fc94-ee82-4e83-db14-dc95ee25c0d3"
      },
      "execution_count": 172,
      "outputs": [
        {
          "output_type": "execute_result",
          "data": {
            "text/plain": [
              "sku                           int64\n",
              "product_name                 object\n",
              "total_comment_num           float64\n",
              "date_key             datetime64[ns]\n",
              "dtype: object"
            ]
          },
          "metadata": {},
          "execution_count": 172
        }
      ]
    },
    {
      "cell_type": "code",
      "source": [
        "len(x_data1['total_comment_num'])"
      ],
      "metadata": {
        "colab": {
          "base_uri": "https://localhost:8080/"
        },
        "id": "GUSqekJ2UrN1",
        "outputId": "054d11b0-0efa-4de6-dffb-e5ea26fc5805"
      },
      "execution_count": 173,
      "outputs": [
        {
          "output_type": "execute_result",
          "data": {
            "text/plain": [
              "117854"
            ]
          },
          "metadata": {},
          "execution_count": 173
        }
      ]
    },
    {
      "cell_type": "code",
      "source": [
        "#Lets find any 0 in total_comment_num\n",
        "(x_data1['total_comment_num']==0).sum()"
      ],
      "metadata": {
        "colab": {
          "base_uri": "https://localhost:8080/"
        },
        "id": "ToF0w32aUN0L",
        "outputId": "31e44840-f4c2-406f-c695-95c78da1801f"
      },
      "execution_count": 174,
      "outputs": [
        {
          "output_type": "execute_result",
          "data": {
            "text/plain": [
              "32321"
            ]
          },
          "metadata": {},
          "execution_count": 174
        }
      ]
    },
    {
      "cell_type": "code",
      "source": [
        "# Drop the values where 'total_comment_num' is 0\n",
        "x_data1 = x_data1[x_data1['total_comment_num'] != 0]\n",
        "x_data1.head()"
      ],
      "metadata": {
        "colab": {
          "base_uri": "https://localhost:8080/",
          "height": 206
        },
        "id": "a7m-GXgzVpv0",
        "outputId": "1ec23710-caf4-48ac-f0d4-9084c88faca2"
      },
      "execution_count": 175,
      "outputs": [
        {
          "output_type": "execute_result",
          "data": {
            "text/plain": [
              "               sku                                       product_name  \\\n",
              "9      19763015802  雀巢（Nestle） 怡养 中老年 成人高钙营养奶粉850g//克 成人高钙中老年人早餐冲饮...   \n",
              "10     61067890457   （咨询享惊喜）合生元派星（原超级金装）婴幼儿配方奶粉2段800g（6-12月）法国原装进口 6罐   \n",
              "15  10036373314205  飞鹤奶粉成人 牧场经典1962加锌铁钙奶粉 儿童奶粉6岁以上高钙营养早餐奶粉 罐装900g ...   \n",
              "17  10032296953247  京东国际J仓配送美可卓蓝胖子奶粉 全脂高钙奶粉青少年人 成人老年儿童蓝妹子脱脂牛奶无蔗糖原装...   \n",
              "23     14817152625           【次日达】伊利 金领冠900g//克婴儿配方奶粉伊利牛奶粉 儿童4段900g/克   \n",
              "\n",
              "    total_comment_num   date_key  \n",
              "9              1000.0 2022-01-10  \n",
              "10              500.0 2022-01-17  \n",
              "15               71.0 2022-02-06  \n",
              "17               41.0 2022-01-23  \n",
              "23             1000.0 2022-02-06  "
            ],
            "text/html": [
              "\n",
              "  <div id=\"df-d86e9077-8601-4f03-ac1e-a427aea2ba33\">\n",
              "    <div class=\"colab-df-container\">\n",
              "      <div>\n",
              "<style scoped>\n",
              "    .dataframe tbody tr th:only-of-type {\n",
              "        vertical-align: middle;\n",
              "    }\n",
              "\n",
              "    .dataframe tbody tr th {\n",
              "        vertical-align: top;\n",
              "    }\n",
              "\n",
              "    .dataframe thead th {\n",
              "        text-align: right;\n",
              "    }\n",
              "</style>\n",
              "<table border=\"1\" class=\"dataframe\">\n",
              "  <thead>\n",
              "    <tr style=\"text-align: right;\">\n",
              "      <th></th>\n",
              "      <th>sku</th>\n",
              "      <th>product_name</th>\n",
              "      <th>total_comment_num</th>\n",
              "      <th>date_key</th>\n",
              "    </tr>\n",
              "  </thead>\n",
              "  <tbody>\n",
              "    <tr>\n",
              "      <th>9</th>\n",
              "      <td>19763015802</td>\n",
              "      <td>雀巢（Nestle） 怡养 中老年 成人高钙营养奶粉850g//克 成人高钙中老年人早餐冲饮...</td>\n",
              "      <td>1000.0</td>\n",
              "      <td>2022-01-10</td>\n",
              "    </tr>\n",
              "    <tr>\n",
              "      <th>10</th>\n",
              "      <td>61067890457</td>\n",
              "      <td>（咨询享惊喜）合生元派星（原超级金装）婴幼儿配方奶粉2段800g（6-12月）法国原装进口 6罐</td>\n",
              "      <td>500.0</td>\n",
              "      <td>2022-01-17</td>\n",
              "    </tr>\n",
              "    <tr>\n",
              "      <th>15</th>\n",
              "      <td>10036373314205</td>\n",
              "      <td>飞鹤奶粉成人 牧场经典1962加锌铁钙奶粉 儿童奶粉6岁以上高钙营养早餐奶粉 罐装900g ...</td>\n",
              "      <td>71.0</td>\n",
              "      <td>2022-02-06</td>\n",
              "    </tr>\n",
              "    <tr>\n",
              "      <th>17</th>\n",
              "      <td>10032296953247</td>\n",
              "      <td>京东国际J仓配送美可卓蓝胖子奶粉 全脂高钙奶粉青少年人 成人老年儿童蓝妹子脱脂牛奶无蔗糖原装...</td>\n",
              "      <td>41.0</td>\n",
              "      <td>2022-01-23</td>\n",
              "    </tr>\n",
              "    <tr>\n",
              "      <th>23</th>\n",
              "      <td>14817152625</td>\n",
              "      <td>【次日达】伊利 金领冠900g//克婴儿配方奶粉伊利牛奶粉 儿童4段900g/克</td>\n",
              "      <td>1000.0</td>\n",
              "      <td>2022-02-06</td>\n",
              "    </tr>\n",
              "  </tbody>\n",
              "</table>\n",
              "</div>\n",
              "      <button class=\"colab-df-convert\" onclick=\"convertToInteractive('df-d86e9077-8601-4f03-ac1e-a427aea2ba33')\"\n",
              "              title=\"Convert this dataframe to an interactive table.\"\n",
              "              style=\"display:none;\">\n",
              "        \n",
              "  <svg xmlns=\"http://www.w3.org/2000/svg\" height=\"24px\"viewBox=\"0 0 24 24\"\n",
              "       width=\"24px\">\n",
              "    <path d=\"M0 0h24v24H0V0z\" fill=\"none\"/>\n",
              "    <path d=\"M18.56 5.44l.94 2.06.94-2.06 2.06-.94-2.06-.94-.94-2.06-.94 2.06-2.06.94zm-11 1L8.5 8.5l.94-2.06 2.06-.94-2.06-.94L8.5 2.5l-.94 2.06-2.06.94zm10 10l.94 2.06.94-2.06 2.06-.94-2.06-.94-.94-2.06-.94 2.06-2.06.94z\"/><path d=\"M17.41 7.96l-1.37-1.37c-.4-.4-.92-.59-1.43-.59-.52 0-1.04.2-1.43.59L10.3 9.45l-7.72 7.72c-.78.78-.78 2.05 0 2.83L4 21.41c.39.39.9.59 1.41.59.51 0 1.02-.2 1.41-.59l7.78-7.78 2.81-2.81c.8-.78.8-2.07 0-2.86zM5.41 20L4 18.59l7.72-7.72 1.47 1.35L5.41 20z\"/>\n",
              "  </svg>\n",
              "      </button>\n",
              "      \n",
              "  <style>\n",
              "    .colab-df-container {\n",
              "      display:flex;\n",
              "      flex-wrap:wrap;\n",
              "      gap: 12px;\n",
              "    }\n",
              "\n",
              "    .colab-df-convert {\n",
              "      background-color: #E8F0FE;\n",
              "      border: none;\n",
              "      border-radius: 50%;\n",
              "      cursor: pointer;\n",
              "      display: none;\n",
              "      fill: #1967D2;\n",
              "      height: 32px;\n",
              "      padding: 0 0 0 0;\n",
              "      width: 32px;\n",
              "    }\n",
              "\n",
              "    .colab-df-convert:hover {\n",
              "      background-color: #E2EBFA;\n",
              "      box-shadow: 0px 1px 2px rgba(60, 64, 67, 0.3), 0px 1px 3px 1px rgba(60, 64, 67, 0.15);\n",
              "      fill: #174EA6;\n",
              "    }\n",
              "\n",
              "    [theme=dark] .colab-df-convert {\n",
              "      background-color: #3B4455;\n",
              "      fill: #D2E3FC;\n",
              "    }\n",
              "\n",
              "    [theme=dark] .colab-df-convert:hover {\n",
              "      background-color: #434B5C;\n",
              "      box-shadow: 0px 1px 3px 1px rgba(0, 0, 0, 0.15);\n",
              "      filter: drop-shadow(0px 1px 2px rgba(0, 0, 0, 0.3));\n",
              "      fill: #FFFFFF;\n",
              "    }\n",
              "  </style>\n",
              "\n",
              "      <script>\n",
              "        const buttonEl =\n",
              "          document.querySelector('#df-d86e9077-8601-4f03-ac1e-a427aea2ba33 button.colab-df-convert');\n",
              "        buttonEl.style.display =\n",
              "          google.colab.kernel.accessAllowed ? 'block' : 'none';\n",
              "\n",
              "        async function convertToInteractive(key) {\n",
              "          const element = document.querySelector('#df-d86e9077-8601-4f03-ac1e-a427aea2ba33');\n",
              "          const dataTable =\n",
              "            await google.colab.kernel.invokeFunction('convertToInteractive',\n",
              "                                                     [key], {});\n",
              "          if (!dataTable) return;\n",
              "\n",
              "          const docLinkHtml = 'Like what you see? Visit the ' +\n",
              "            '<a target=\"_blank\" href=https://colab.research.google.com/notebooks/data_table.ipynb>data table notebook</a>'\n",
              "            + ' to learn more about interactive tables.';\n",
              "          element.innerHTML = '';\n",
              "          dataTable['output_type'] = 'display_data';\n",
              "          await google.colab.output.renderOutput(dataTable, element);\n",
              "          const docLink = document.createElement('div');\n",
              "          docLink.innerHTML = docLinkHtml;\n",
              "          element.appendChild(docLink);\n",
              "        }\n",
              "      </script>\n",
              "    </div>\n",
              "  </div>\n",
              "  "
            ]
          },
          "metadata": {},
          "execution_count": 175
        }
      ]
    },
    {
      "cell_type": "code",
      "source": [
        "x_data1.shape"
      ],
      "metadata": {
        "colab": {
          "base_uri": "https://localhost:8080/"
        },
        "id": "paHf6kt-ZzLL",
        "outputId": "48507c1d-a95a-4341-db9b-40c10c2b8036"
      },
      "execution_count": 176,
      "outputs": [
        {
          "output_type": "execute_result",
          "data": {
            "text/plain": [
              "(85533, 4)"
            ]
          },
          "metadata": {},
          "execution_count": 176
        }
      ]
    },
    {
      "cell_type": "code",
      "source": [
        "x_data1['total_comment_num'].describe"
      ],
      "metadata": {
        "colab": {
          "base_uri": "https://localhost:8080/"
        },
        "id": "Qcdbd2XnZ3TX",
        "outputId": "6f9019cd-dda3-4a5a-d0e4-f94758cbe75f"
      },
      "execution_count": 177,
      "outputs": [
        {
          "output_type": "execute_result",
          "data": {
            "text/plain": [
              "<bound method NDFrame.describe of 9          1000.0\n",
              "10          500.0\n",
              "15           71.0\n",
              "17           41.0\n",
              "23         1000.0\n",
              "           ...   \n",
              "271087      100.0\n",
              "271090      500.0\n",
              "271091     2000.0\n",
              "271092     2000.0\n",
              "271094    50000.0\n",
              "Name: total_comment_num, Length: 85533, dtype: float64>"
            ]
          },
          "metadata": {},
          "execution_count": 177
        }
      ]
    },
    {
      "cell_type": "code",
      "source": [
        "# Lets sort the data by date\n",
        "x_data1 = x_data1.sort_values(by = 'date_key')\n",
        "x_data1.head()"
      ],
      "metadata": {
        "colab": {
          "base_uri": "https://localhost:8080/",
          "height": 206
        },
        "id": "mHfJoj7GZ_Ub",
        "outputId": "9f9335d0-667d-46ee-e7eb-d7f8acc1f81e"
      },
      "execution_count": 150,
      "outputs": [
        {
          "output_type": "execute_result",
          "data": {
            "text/plain": [
              "                   sku                                       product_name  \\\n",
              "228019  10029517213612          佳贝艾特kabrita羊奶粉试用装盒装体验装 悦白1段150g（限购1盒超出不发）   \n",
              "232818    100012814215  爱他美(Aptamil) 白金致亲中国香港版 婴儿配方奶粉1段（0-6个月） 900g 新西...   \n",
              "119223     46175092891              美赞臣蓝臻3段幼儿配方奶粉乳铁蛋白荷兰原装进口第二代 820g*6罐整箱装   \n",
              "174934     10386355720  【领券下单 现货速发】伊利金领冠奶粉珍护900克婴幼儿 儿童配方奶粉 3段900g*6罐【2...   \n",
              "174866     12099572956        【新客注册加送900g】飞鹤（FIRMUS）奶粉3段飞帆呵护幼儿配方牛奶粉三段900克   \n",
              "\n",
              "        total_comment_num   date_key  \n",
              "228019             1155.0 2022-01-01  \n",
              "232818              532.0 2022-01-01  \n",
              "119223             3826.0 2022-01-01  \n",
              "174934             1009.0 2022-01-01  \n",
              "174866            17066.0 2022-01-01  "
            ],
            "text/html": [
              "\n",
              "  <div id=\"df-28a9c24b-f883-4015-bfb8-8c02eefcf43c\">\n",
              "    <div class=\"colab-df-container\">\n",
              "      <div>\n",
              "<style scoped>\n",
              "    .dataframe tbody tr th:only-of-type {\n",
              "        vertical-align: middle;\n",
              "    }\n",
              "\n",
              "    .dataframe tbody tr th {\n",
              "        vertical-align: top;\n",
              "    }\n",
              "\n",
              "    .dataframe thead th {\n",
              "        text-align: right;\n",
              "    }\n",
              "</style>\n",
              "<table border=\"1\" class=\"dataframe\">\n",
              "  <thead>\n",
              "    <tr style=\"text-align: right;\">\n",
              "      <th></th>\n",
              "      <th>sku</th>\n",
              "      <th>product_name</th>\n",
              "      <th>total_comment_num</th>\n",
              "      <th>date_key</th>\n",
              "    </tr>\n",
              "  </thead>\n",
              "  <tbody>\n",
              "    <tr>\n",
              "      <th>228019</th>\n",
              "      <td>10029517213612</td>\n",
              "      <td>佳贝艾特kabrita羊奶粉试用装盒装体验装 悦白1段150g（限购1盒超出不发）</td>\n",
              "      <td>1155.0</td>\n",
              "      <td>2022-01-01</td>\n",
              "    </tr>\n",
              "    <tr>\n",
              "      <th>232818</th>\n",
              "      <td>100012814215</td>\n",
              "      <td>爱他美(Aptamil) 白金致亲中国香港版 婴儿配方奶粉1段（0-6个月） 900g 新西...</td>\n",
              "      <td>532.0</td>\n",
              "      <td>2022-01-01</td>\n",
              "    </tr>\n",
              "    <tr>\n",
              "      <th>119223</th>\n",
              "      <td>46175092891</td>\n",
              "      <td>美赞臣蓝臻3段幼儿配方奶粉乳铁蛋白荷兰原装进口第二代 820g*6罐整箱装</td>\n",
              "      <td>3826.0</td>\n",
              "      <td>2022-01-01</td>\n",
              "    </tr>\n",
              "    <tr>\n",
              "      <th>174934</th>\n",
              "      <td>10386355720</td>\n",
              "      <td>【领券下单 现货速发】伊利金领冠奶粉珍护900克婴幼儿 儿童配方奶粉 3段900g*6罐【2...</td>\n",
              "      <td>1009.0</td>\n",
              "      <td>2022-01-01</td>\n",
              "    </tr>\n",
              "    <tr>\n",
              "      <th>174866</th>\n",
              "      <td>12099572956</td>\n",
              "      <td>【新客注册加送900g】飞鹤（FIRMUS）奶粉3段飞帆呵护幼儿配方牛奶粉三段900克</td>\n",
              "      <td>17066.0</td>\n",
              "      <td>2022-01-01</td>\n",
              "    </tr>\n",
              "  </tbody>\n",
              "</table>\n",
              "</div>\n",
              "      <button class=\"colab-df-convert\" onclick=\"convertToInteractive('df-28a9c24b-f883-4015-bfb8-8c02eefcf43c')\"\n",
              "              title=\"Convert this dataframe to an interactive table.\"\n",
              "              style=\"display:none;\">\n",
              "        \n",
              "  <svg xmlns=\"http://www.w3.org/2000/svg\" height=\"24px\"viewBox=\"0 0 24 24\"\n",
              "       width=\"24px\">\n",
              "    <path d=\"M0 0h24v24H0V0z\" fill=\"none\"/>\n",
              "    <path d=\"M18.56 5.44l.94 2.06.94-2.06 2.06-.94-2.06-.94-.94-2.06-.94 2.06-2.06.94zm-11 1L8.5 8.5l.94-2.06 2.06-.94-2.06-.94L8.5 2.5l-.94 2.06-2.06.94zm10 10l.94 2.06.94-2.06 2.06-.94-2.06-.94-.94-2.06-.94 2.06-2.06.94z\"/><path d=\"M17.41 7.96l-1.37-1.37c-.4-.4-.92-.59-1.43-.59-.52 0-1.04.2-1.43.59L10.3 9.45l-7.72 7.72c-.78.78-.78 2.05 0 2.83L4 21.41c.39.39.9.59 1.41.59.51 0 1.02-.2 1.41-.59l7.78-7.78 2.81-2.81c.8-.78.8-2.07 0-2.86zM5.41 20L4 18.59l7.72-7.72 1.47 1.35L5.41 20z\"/>\n",
              "  </svg>\n",
              "      </button>\n",
              "      \n",
              "  <style>\n",
              "    .colab-df-container {\n",
              "      display:flex;\n",
              "      flex-wrap:wrap;\n",
              "      gap: 12px;\n",
              "    }\n",
              "\n",
              "    .colab-df-convert {\n",
              "      background-color: #E8F0FE;\n",
              "      border: none;\n",
              "      border-radius: 50%;\n",
              "      cursor: pointer;\n",
              "      display: none;\n",
              "      fill: #1967D2;\n",
              "      height: 32px;\n",
              "      padding: 0 0 0 0;\n",
              "      width: 32px;\n",
              "    }\n",
              "\n",
              "    .colab-df-convert:hover {\n",
              "      background-color: #E2EBFA;\n",
              "      box-shadow: 0px 1px 2px rgba(60, 64, 67, 0.3), 0px 1px 3px 1px rgba(60, 64, 67, 0.15);\n",
              "      fill: #174EA6;\n",
              "    }\n",
              "\n",
              "    [theme=dark] .colab-df-convert {\n",
              "      background-color: #3B4455;\n",
              "      fill: #D2E3FC;\n",
              "    }\n",
              "\n",
              "    [theme=dark] .colab-df-convert:hover {\n",
              "      background-color: #434B5C;\n",
              "      box-shadow: 0px 1px 3px 1px rgba(0, 0, 0, 0.15);\n",
              "      filter: drop-shadow(0px 1px 2px rgba(0, 0, 0, 0.3));\n",
              "      fill: #FFFFFF;\n",
              "    }\n",
              "  </style>\n",
              "\n",
              "      <script>\n",
              "        const buttonEl =\n",
              "          document.querySelector('#df-28a9c24b-f883-4015-bfb8-8c02eefcf43c button.colab-df-convert');\n",
              "        buttonEl.style.display =\n",
              "          google.colab.kernel.accessAllowed ? 'block' : 'none';\n",
              "\n",
              "        async function convertToInteractive(key) {\n",
              "          const element = document.querySelector('#df-28a9c24b-f883-4015-bfb8-8c02eefcf43c');\n",
              "          const dataTable =\n",
              "            await google.colab.kernel.invokeFunction('convertToInteractive',\n",
              "                                                     [key], {});\n",
              "          if (!dataTable) return;\n",
              "\n",
              "          const docLinkHtml = 'Like what you see? Visit the ' +\n",
              "            '<a target=\"_blank\" href=https://colab.research.google.com/notebooks/data_table.ipynb>data table notebook</a>'\n",
              "            + ' to learn more about interactive tables.';\n",
              "          element.innerHTML = '';\n",
              "          dataTable['output_type'] = 'display_data';\n",
              "          await google.colab.output.renderOutput(dataTable, element);\n",
              "          const docLink = document.createElement('div');\n",
              "          docLink.innerHTML = docLinkHtml;\n",
              "          element.appendChild(docLink);\n",
              "        }\n",
              "      </script>\n",
              "    </div>\n",
              "  </div>\n",
              "  "
            ]
          },
          "metadata": {},
          "execution_count": 150
        }
      ]
    },
    {
      "cell_type": "code",
      "source": [
        "x_data1.tail()"
      ],
      "metadata": {
        "colab": {
          "base_uri": "https://localhost:8080/",
          "height": 206
        },
        "id": "JIDZDWtYbZQD",
        "outputId": "0470963e-21d7-4e27-cf1b-a2b934ce3efb"
      },
      "execution_count": 151,
      "outputs": [
        {
          "output_type": "execute_result",
          "data": {
            "text/plain": [
              "                   sku                                       product_name  \\\n",
              "217095  10025655116165  Natur Top诺崔特 澳洲原装进口奶粉dha儿童小学生奶粉青少年早餐成长高钙牛奶粉罐装3...   \n",
              "10056      51958996531  伊利 倍畅羊奶粉700g罐 羊奶粉成人 益生菌高钙高蛋白 纯羊乳 无添加蔗糖 中老年学生全家...   \n",
              "28711   10037119891593            舒贝诺1段婴儿配方奶粉800克罐装 适合0-6月龄初生婴儿bn1 22年产新款   \n",
              "71689   10026372910777             【整箱送礼品】君乐宝至臻3段奶粉幼儿配方牛奶粉三段400克 3段盒装400g   \n",
              "86370   10026628872854  【21年12月】雀巢怡运全家营养奶粉甜奶粉配方中老年成人320g克袋装女士儿童学生早餐冲饮牛...   \n",
              "\n",
              "        total_comment_num   date_key  \n",
              "217095               68.0 2022-02-23  \n",
              "10056               500.0 2022-02-23  \n",
              "28711                80.0 2022-02-23  \n",
              "71689              2000.0 2022-02-23  \n",
              "86370                43.0 2022-02-23  "
            ],
            "text/html": [
              "\n",
              "  <div id=\"df-3f8c94b3-28a6-4e90-a943-d97b718b3b4f\">\n",
              "    <div class=\"colab-df-container\">\n",
              "      <div>\n",
              "<style scoped>\n",
              "    .dataframe tbody tr th:only-of-type {\n",
              "        vertical-align: middle;\n",
              "    }\n",
              "\n",
              "    .dataframe tbody tr th {\n",
              "        vertical-align: top;\n",
              "    }\n",
              "\n",
              "    .dataframe thead th {\n",
              "        text-align: right;\n",
              "    }\n",
              "</style>\n",
              "<table border=\"1\" class=\"dataframe\">\n",
              "  <thead>\n",
              "    <tr style=\"text-align: right;\">\n",
              "      <th></th>\n",
              "      <th>sku</th>\n",
              "      <th>product_name</th>\n",
              "      <th>total_comment_num</th>\n",
              "      <th>date_key</th>\n",
              "    </tr>\n",
              "  </thead>\n",
              "  <tbody>\n",
              "    <tr>\n",
              "      <th>217095</th>\n",
              "      <td>10025655116165</td>\n",
              "      <td>Natur Top诺崔特 澳洲原装进口奶粉dha儿童小学生奶粉青少年早餐成长高钙牛奶粉罐装3...</td>\n",
              "      <td>68.0</td>\n",
              "      <td>2022-02-23</td>\n",
              "    </tr>\n",
              "    <tr>\n",
              "      <th>10056</th>\n",
              "      <td>51958996531</td>\n",
              "      <td>伊利 倍畅羊奶粉700g罐 羊奶粉成人 益生菌高钙高蛋白 纯羊乳 无添加蔗糖 中老年学生全家...</td>\n",
              "      <td>500.0</td>\n",
              "      <td>2022-02-23</td>\n",
              "    </tr>\n",
              "    <tr>\n",
              "      <th>28711</th>\n",
              "      <td>10037119891593</td>\n",
              "      <td>舒贝诺1段婴儿配方奶粉800克罐装 适合0-6月龄初生婴儿bn1 22年产新款</td>\n",
              "      <td>80.0</td>\n",
              "      <td>2022-02-23</td>\n",
              "    </tr>\n",
              "    <tr>\n",
              "      <th>71689</th>\n",
              "      <td>10026372910777</td>\n",
              "      <td>【整箱送礼品】君乐宝至臻3段奶粉幼儿配方牛奶粉三段400克 3段盒装400g</td>\n",
              "      <td>2000.0</td>\n",
              "      <td>2022-02-23</td>\n",
              "    </tr>\n",
              "    <tr>\n",
              "      <th>86370</th>\n",
              "      <td>10026628872854</td>\n",
              "      <td>【21年12月】雀巢怡运全家营养奶粉甜奶粉配方中老年成人320g克袋装女士儿童学生早餐冲饮牛...</td>\n",
              "      <td>43.0</td>\n",
              "      <td>2022-02-23</td>\n",
              "    </tr>\n",
              "  </tbody>\n",
              "</table>\n",
              "</div>\n",
              "      <button class=\"colab-df-convert\" onclick=\"convertToInteractive('df-3f8c94b3-28a6-4e90-a943-d97b718b3b4f')\"\n",
              "              title=\"Convert this dataframe to an interactive table.\"\n",
              "              style=\"display:none;\">\n",
              "        \n",
              "  <svg xmlns=\"http://www.w3.org/2000/svg\" height=\"24px\"viewBox=\"0 0 24 24\"\n",
              "       width=\"24px\">\n",
              "    <path d=\"M0 0h24v24H0V0z\" fill=\"none\"/>\n",
              "    <path d=\"M18.56 5.44l.94 2.06.94-2.06 2.06-.94-2.06-.94-.94-2.06-.94 2.06-2.06.94zm-11 1L8.5 8.5l.94-2.06 2.06-.94-2.06-.94L8.5 2.5l-.94 2.06-2.06.94zm10 10l.94 2.06.94-2.06 2.06-.94-2.06-.94-.94-2.06-.94 2.06-2.06.94z\"/><path d=\"M17.41 7.96l-1.37-1.37c-.4-.4-.92-.59-1.43-.59-.52 0-1.04.2-1.43.59L10.3 9.45l-7.72 7.72c-.78.78-.78 2.05 0 2.83L4 21.41c.39.39.9.59 1.41.59.51 0 1.02-.2 1.41-.59l7.78-7.78 2.81-2.81c.8-.78.8-2.07 0-2.86zM5.41 20L4 18.59l7.72-7.72 1.47 1.35L5.41 20z\"/>\n",
              "  </svg>\n",
              "      </button>\n",
              "      \n",
              "  <style>\n",
              "    .colab-df-container {\n",
              "      display:flex;\n",
              "      flex-wrap:wrap;\n",
              "      gap: 12px;\n",
              "    }\n",
              "\n",
              "    .colab-df-convert {\n",
              "      background-color: #E8F0FE;\n",
              "      border: none;\n",
              "      border-radius: 50%;\n",
              "      cursor: pointer;\n",
              "      display: none;\n",
              "      fill: #1967D2;\n",
              "      height: 32px;\n",
              "      padding: 0 0 0 0;\n",
              "      width: 32px;\n",
              "    }\n",
              "\n",
              "    .colab-df-convert:hover {\n",
              "      background-color: #E2EBFA;\n",
              "      box-shadow: 0px 1px 2px rgba(60, 64, 67, 0.3), 0px 1px 3px 1px rgba(60, 64, 67, 0.15);\n",
              "      fill: #174EA6;\n",
              "    }\n",
              "\n",
              "    [theme=dark] .colab-df-convert {\n",
              "      background-color: #3B4455;\n",
              "      fill: #D2E3FC;\n",
              "    }\n",
              "\n",
              "    [theme=dark] .colab-df-convert:hover {\n",
              "      background-color: #434B5C;\n",
              "      box-shadow: 0px 1px 3px 1px rgba(0, 0, 0, 0.15);\n",
              "      filter: drop-shadow(0px 1px 2px rgba(0, 0, 0, 0.3));\n",
              "      fill: #FFFFFF;\n",
              "    }\n",
              "  </style>\n",
              "\n",
              "      <script>\n",
              "        const buttonEl =\n",
              "          document.querySelector('#df-3f8c94b3-28a6-4e90-a943-d97b718b3b4f button.colab-df-convert');\n",
              "        buttonEl.style.display =\n",
              "          google.colab.kernel.accessAllowed ? 'block' : 'none';\n",
              "\n",
              "        async function convertToInteractive(key) {\n",
              "          const element = document.querySelector('#df-3f8c94b3-28a6-4e90-a943-d97b718b3b4f');\n",
              "          const dataTable =\n",
              "            await google.colab.kernel.invokeFunction('convertToInteractive',\n",
              "                                                     [key], {});\n",
              "          if (!dataTable) return;\n",
              "\n",
              "          const docLinkHtml = 'Like what you see? Visit the ' +\n",
              "            '<a target=\"_blank\" href=https://colab.research.google.com/notebooks/data_table.ipynb>data table notebook</a>'\n",
              "            + ' to learn more about interactive tables.';\n",
              "          element.innerHTML = '';\n",
              "          dataTable['output_type'] = 'display_data';\n",
              "          await google.colab.output.renderOutput(dataTable, element);\n",
              "          const docLink = document.createElement('div');\n",
              "          docLink.innerHTML = docLinkHtml;\n",
              "          element.appendChild(docLink);\n",
              "        }\n",
              "      </script>\n",
              "    </div>\n",
              "  </div>\n",
              "  "
            ]
          },
          "metadata": {},
          "execution_count": 151
        }
      ]
    },
    {
      "cell_type": "code",
      "source": [
        "x_data1['date_key'].unique()"
      ],
      "metadata": {
        "colab": {
          "base_uri": "https://localhost:8080/"
        },
        "id": "f4_PJjYUbYaa",
        "outputId": "67d97edb-cdd1-48cd-8eb2-431ed58ca812"
      },
      "execution_count": 152,
      "outputs": [
        {
          "output_type": "execute_result",
          "data": {
            "text/plain": [
              "array(['2022-01-01T00:00:00.000000000', '2022-01-02T00:00:00.000000000',\n",
              "       '2022-01-03T00:00:00.000000000', '2022-01-04T00:00:00.000000000',\n",
              "       '2022-01-05T00:00:00.000000000', '2022-01-08T00:00:00.000000000',\n",
              "       '2022-01-09T00:00:00.000000000', '2022-01-10T00:00:00.000000000',\n",
              "       '2022-01-11T00:00:00.000000000', '2022-01-15T00:00:00.000000000',\n",
              "       '2022-01-16T00:00:00.000000000', '2022-01-17T00:00:00.000000000',\n",
              "       '2022-01-22T00:00:00.000000000', '2022-01-23T00:00:00.000000000',\n",
              "       '2022-01-24T00:00:00.000000000', '2022-01-29T00:00:00.000000000',\n",
              "       '2022-01-30T00:00:00.000000000', '2022-01-31T00:00:00.000000000',\n",
              "       '2022-02-01T00:00:00.000000000', '2022-02-05T00:00:00.000000000',\n",
              "       '2022-02-06T00:00:00.000000000', '2022-02-07T00:00:00.000000000',\n",
              "       '2022-02-08T00:00:00.000000000', '2022-02-09T00:00:00.000000000',\n",
              "       '2022-02-15T00:00:00.000000000', '2022-02-16T00:00:00.000000000',\n",
              "       '2022-02-19T00:00:00.000000000', '2022-02-20T00:00:00.000000000',\n",
              "       '2022-02-21T00:00:00.000000000', '2022-02-22T00:00:00.000000000',\n",
              "       '2022-02-23T00:00:00.000000000'], dtype='datetime64[ns]')"
            ]
          },
          "metadata": {},
          "execution_count": 152
        }
      ]
    },
    {
      "cell_type": "code",
      "source": [
        "sku_uq = x_data1.sku.unique().tolist()\n",
        "len(sku_uq)"
      ],
      "metadata": {
        "colab": {
          "base_uri": "https://localhost:8080/"
        },
        "id": "b29s-k5RcPrJ",
        "outputId": "b1ed5ecc-d1ec-4dd8-8343-d55a9cea56b4"
      },
      "execution_count": 153,
      "outputs": [
        {
          "output_type": "execute_result",
          "data": {
            "text/plain": [
              "20242"
            ]
          },
          "metadata": {},
          "execution_count": 153
        }
      ]
    },
    {
      "cell_type": "code",
      "source": [
        "date_uq = x_data1.date_key.unique().tolist()\n",
        "len(date_uq)"
      ],
      "metadata": {
        "colab": {
          "base_uri": "https://localhost:8080/"
        },
        "id": "kdPy6BEdhnD3",
        "outputId": "d4dc721a-d923-49c1-ebc7-087718174700"
      },
      "execution_count": 178,
      "outputs": [
        {
          "output_type": "execute_result",
          "data": {
            "text/plain": [
              "31"
            ]
          },
          "metadata": {},
          "execution_count": 178
        }
      ]
    },
    {
      "cell_type": "markdown",
      "source": [
        "**For SKU 0**"
      ],
      "metadata": {
        "id": "shLuw68aEfqn"
      }
    },
    {
      "cell_type": "code",
      "source": [
        "# Import some necessary libraries \n",
        "import seaborn as sns\n",
        "import matplotlib.pyplot as plt\n",
        "sns.set(color_codes=True)\n",
        "%matplotlib inline"
      ],
      "metadata": {
        "id": "vFZG90XPaOzB"
      },
      "execution_count": 184,
      "outputs": []
    },
    {
      "cell_type": "code",
      "source": [
        "sku_df0 = x_data1.loc[(x_data1['sku'] == sku_uq[0])]\n",
        "sku_df0.sort_values(by = 'date_key')"
      ],
      "metadata": {
        "colab": {
          "base_uri": "https://localhost:8080/",
          "height": 237
        },
        "id": "bLUZSZhxzg1X",
        "outputId": "a7127fe0-86a8-4d5e-d521-fa253e338b0e"
      },
      "execution_count": 183,
      "outputs": [
        {
          "output_type": "execute_result",
          "data": {
            "text/plain": [
              "                   sku                               product_name  \\\n",
              "228019  10029517213612  佳贝艾特kabrita羊奶粉试用装盒装体验装 悦白1段150g（限购1盒超出不发）   \n",
              "75221   10029517213612  佳贝艾特kabrita羊奶粉试用装盒装体验装 悦白1段150g（限购1盒超出不发）   \n",
              "60060   10029517213612  佳贝艾特kabrita羊奶粉试用装盒装体验装 悦白1段150g（限购1盒超出不发）   \n",
              "250684  10029517213612  佳贝艾特kabrita羊奶粉试用装盒装体验装 悦白1段150g（限购1盒超出不发）   \n",
              "257136  10029517213612  佳贝艾特kabrita羊奶粉试用装盒装体验装 悦白1段150g（限购1盒超出不发）   \n",
              "206154  10029517213612  佳贝艾特kabrita羊奶粉试用装盒装体验装 悦白1段150g（限购1盒超出不发）   \n",
              "\n",
              "        total_comment_num   date_key  \n",
              "228019             1155.0 2022-01-01  \n",
              "75221              1000.0 2022-01-16  \n",
              "60060              1000.0 2022-01-23  \n",
              "250684             1000.0 2022-01-30  \n",
              "257136             1000.0 2022-02-16  \n",
              "206154             1000.0 2022-02-22  "
            ],
            "text/html": [
              "\n",
              "  <div id=\"df-78c6a3f7-31ed-4f6c-a445-263e54d7aa06\">\n",
              "    <div class=\"colab-df-container\">\n",
              "      <div>\n",
              "<style scoped>\n",
              "    .dataframe tbody tr th:only-of-type {\n",
              "        vertical-align: middle;\n",
              "    }\n",
              "\n",
              "    .dataframe tbody tr th {\n",
              "        vertical-align: top;\n",
              "    }\n",
              "\n",
              "    .dataframe thead th {\n",
              "        text-align: right;\n",
              "    }\n",
              "</style>\n",
              "<table border=\"1\" class=\"dataframe\">\n",
              "  <thead>\n",
              "    <tr style=\"text-align: right;\">\n",
              "      <th></th>\n",
              "      <th>sku</th>\n",
              "      <th>product_name</th>\n",
              "      <th>total_comment_num</th>\n",
              "      <th>date_key</th>\n",
              "    </tr>\n",
              "  </thead>\n",
              "  <tbody>\n",
              "    <tr>\n",
              "      <th>228019</th>\n",
              "      <td>10029517213612</td>\n",
              "      <td>佳贝艾特kabrita羊奶粉试用装盒装体验装 悦白1段150g（限购1盒超出不发）</td>\n",
              "      <td>1155.0</td>\n",
              "      <td>2022-01-01</td>\n",
              "    </tr>\n",
              "    <tr>\n",
              "      <th>75221</th>\n",
              "      <td>10029517213612</td>\n",
              "      <td>佳贝艾特kabrita羊奶粉试用装盒装体验装 悦白1段150g（限购1盒超出不发）</td>\n",
              "      <td>1000.0</td>\n",
              "      <td>2022-01-16</td>\n",
              "    </tr>\n",
              "    <tr>\n",
              "      <th>60060</th>\n",
              "      <td>10029517213612</td>\n",
              "      <td>佳贝艾特kabrita羊奶粉试用装盒装体验装 悦白1段150g（限购1盒超出不发）</td>\n",
              "      <td>1000.0</td>\n",
              "      <td>2022-01-23</td>\n",
              "    </tr>\n",
              "    <tr>\n",
              "      <th>250684</th>\n",
              "      <td>10029517213612</td>\n",
              "      <td>佳贝艾特kabrita羊奶粉试用装盒装体验装 悦白1段150g（限购1盒超出不发）</td>\n",
              "      <td>1000.0</td>\n",
              "      <td>2022-01-30</td>\n",
              "    </tr>\n",
              "    <tr>\n",
              "      <th>257136</th>\n",
              "      <td>10029517213612</td>\n",
              "      <td>佳贝艾特kabrita羊奶粉试用装盒装体验装 悦白1段150g（限购1盒超出不发）</td>\n",
              "      <td>1000.0</td>\n",
              "      <td>2022-02-16</td>\n",
              "    </tr>\n",
              "    <tr>\n",
              "      <th>206154</th>\n",
              "      <td>10029517213612</td>\n",
              "      <td>佳贝艾特kabrita羊奶粉试用装盒装体验装 悦白1段150g（限购1盒超出不发）</td>\n",
              "      <td>1000.0</td>\n",
              "      <td>2022-02-22</td>\n",
              "    </tr>\n",
              "  </tbody>\n",
              "</table>\n",
              "</div>\n",
              "      <button class=\"colab-df-convert\" onclick=\"convertToInteractive('df-78c6a3f7-31ed-4f6c-a445-263e54d7aa06')\"\n",
              "              title=\"Convert this dataframe to an interactive table.\"\n",
              "              style=\"display:none;\">\n",
              "        \n",
              "  <svg xmlns=\"http://www.w3.org/2000/svg\" height=\"24px\"viewBox=\"0 0 24 24\"\n",
              "       width=\"24px\">\n",
              "    <path d=\"M0 0h24v24H0V0z\" fill=\"none\"/>\n",
              "    <path d=\"M18.56 5.44l.94 2.06.94-2.06 2.06-.94-2.06-.94-.94-2.06-.94 2.06-2.06.94zm-11 1L8.5 8.5l.94-2.06 2.06-.94-2.06-.94L8.5 2.5l-.94 2.06-2.06.94zm10 10l.94 2.06.94-2.06 2.06-.94-2.06-.94-.94-2.06-.94 2.06-2.06.94z\"/><path d=\"M17.41 7.96l-1.37-1.37c-.4-.4-.92-.59-1.43-.59-.52 0-1.04.2-1.43.59L10.3 9.45l-7.72 7.72c-.78.78-.78 2.05 0 2.83L4 21.41c.39.39.9.59 1.41.59.51 0 1.02-.2 1.41-.59l7.78-7.78 2.81-2.81c.8-.78.8-2.07 0-2.86zM5.41 20L4 18.59l7.72-7.72 1.47 1.35L5.41 20z\"/>\n",
              "  </svg>\n",
              "      </button>\n",
              "      \n",
              "  <style>\n",
              "    .colab-df-container {\n",
              "      display:flex;\n",
              "      flex-wrap:wrap;\n",
              "      gap: 12px;\n",
              "    }\n",
              "\n",
              "    .colab-df-convert {\n",
              "      background-color: #E8F0FE;\n",
              "      border: none;\n",
              "      border-radius: 50%;\n",
              "      cursor: pointer;\n",
              "      display: none;\n",
              "      fill: #1967D2;\n",
              "      height: 32px;\n",
              "      padding: 0 0 0 0;\n",
              "      width: 32px;\n",
              "    }\n",
              "\n",
              "    .colab-df-convert:hover {\n",
              "      background-color: #E2EBFA;\n",
              "      box-shadow: 0px 1px 2px rgba(60, 64, 67, 0.3), 0px 1px 3px 1px rgba(60, 64, 67, 0.15);\n",
              "      fill: #174EA6;\n",
              "    }\n",
              "\n",
              "    [theme=dark] .colab-df-convert {\n",
              "      background-color: #3B4455;\n",
              "      fill: #D2E3FC;\n",
              "    }\n",
              "\n",
              "    [theme=dark] .colab-df-convert:hover {\n",
              "      background-color: #434B5C;\n",
              "      box-shadow: 0px 1px 3px 1px rgba(0, 0, 0, 0.15);\n",
              "      filter: drop-shadow(0px 1px 2px rgba(0, 0, 0, 0.3));\n",
              "      fill: #FFFFFF;\n",
              "    }\n",
              "  </style>\n",
              "\n",
              "      <script>\n",
              "        const buttonEl =\n",
              "          document.querySelector('#df-78c6a3f7-31ed-4f6c-a445-263e54d7aa06 button.colab-df-convert');\n",
              "        buttonEl.style.display =\n",
              "          google.colab.kernel.accessAllowed ? 'block' : 'none';\n",
              "\n",
              "        async function convertToInteractive(key) {\n",
              "          const element = document.querySelector('#df-78c6a3f7-31ed-4f6c-a445-263e54d7aa06');\n",
              "          const dataTable =\n",
              "            await google.colab.kernel.invokeFunction('convertToInteractive',\n",
              "                                                     [key], {});\n",
              "          if (!dataTable) return;\n",
              "\n",
              "          const docLinkHtml = 'Like what you see? Visit the ' +\n",
              "            '<a target=\"_blank\" href=https://colab.research.google.com/notebooks/data_table.ipynb>data table notebook</a>'\n",
              "            + ' to learn more about interactive tables.';\n",
              "          element.innerHTML = '';\n",
              "          dataTable['output_type'] = 'display_data';\n",
              "          await google.colab.output.renderOutput(dataTable, element);\n",
              "          const docLink = document.createElement('div');\n",
              "          docLink.innerHTML = docLinkHtml;\n",
              "          element.appendChild(docLink);\n",
              "        }\n",
              "      </script>\n",
              "    </div>\n",
              "  </div>\n",
              "  "
            ]
          },
          "metadata": {},
          "execution_count": 183
        }
      ]
    },
    {
      "cell_type": "code",
      "source": [
        "sns.distplot(sku_df0['total_comment_num'],kde= True)"
      ],
      "metadata": {
        "colab": {
          "base_uri": "https://localhost:8080/",
          "height": 433
        },
        "id": "tQwXRE9qBSe5",
        "outputId": "ff02f606-0ecc-4dfe-f457-d1f1c5d90408"
      },
      "execution_count": 189,
      "outputs": [
        {
          "output_type": "stream",
          "name": "stderr",
          "text": [
            "/usr/local/lib/python3.7/dist-packages/seaborn/distributions.py:2619: FutureWarning: `distplot` is a deprecated function and will be removed in a future version. Please adapt your code to use either `displot` (a figure-level function with similar flexibility) or `histplot` (an axes-level function for histograms).\n",
            "  warnings.warn(msg, FutureWarning)\n"
          ]
        },
        {
          "output_type": "execute_result",
          "data": {
            "text/plain": [
              "<matplotlib.axes._subplots.AxesSubplot at 0x7fc37b1b8cd0>"
            ]
          },
          "metadata": {},
          "execution_count": 189
        },
        {
          "output_type": "display_data",
          "data": {
            "text/plain": [
              "<Figure size 576x396 with 1 Axes>"
            ],
            "image/png": "[encoded data removed]"
          },
          "metadata": {}
        }
      ]
    },
    {
      "cell_type": "code",
      "source": [
        "plt.style.use(\"seaborn\")\n",
        "fig = plt.figure(figsize=(11,9))\n",
        "ax = fig.add_subplot(1,1,1) \n",
        "ax.set_xlabel ('Date and Time')\n",
        "ax.set_ylabel ('Total Comments')\n",
        "ax.set_title (\"Manhattan, NY 5-minute accumulated precip associated with the remnants of Hurricane Ida\")\n",
        "ax.plot(sku_df0['date_key'], sku_df0['total_comment_num'], marker='o')"
      ],
      "metadata": {
        "colab": {
          "base_uri": "https://localhost:8080/",
          "height": 583
        },
        "id": "p_7c0EpQa-vo",
        "outputId": "79b1d7f5-a2fd-4d3f-b8d1-48894e0989c8"
      },
      "execution_count": 190,
      "outputs": [
        {
          "output_type": "execute_result",
          "data": {
            "text/plain": [
              "[<matplotlib.lines.Line2D at 0x7fc37af7ed90>]"
            ]
          },
          "metadata": {},
          "execution_count": 190
        },
        {
          "output_type": "display_data",
          "data": {
            "text/plain": [
              "<Figure size 792x648 with 1 Axes>"
            ],
            "image/png": "[encoded data removed]"
          },
          "metadata": {}
        }
      ]
    },
    {
      "cell_type": "markdown",
      "source": [
        "**For SKU1**"
      ],
      "metadata": {
        "id": "mn76Ij8OFhop"
      }
    },
    {
      "cell_type": "code",
      "source": [
        "sku_df1 = x_data1.loc[(x_data1['sku'] == sku_uq[1])]\n",
        "sku_df1.sort_values(by = 'date_key')"
      ],
      "metadata": {
        "colab": {
          "base_uri": "https://localhost:8080/",
          "height": 331
        },
        "id": "fSXduvAOB6iL",
        "outputId": "84bb258e-35ec-49d3-e7e7-49260c2755af"
      },
      "execution_count": 200,
      "outputs": [
        {
          "output_type": "execute_result",
          "data": {
            "text/plain": [
              "                 sku                                       product_name  \\\n",
              "232818  100012814215  爱他美(Aptamil) 白金致亲中国香港版 婴儿配方奶粉1段（0-6个月） 900g 新西...   \n",
              "226544  100012814215  爱他美(Aptamil) 白金致亲中国香港版 婴儿配方奶粉1段（0-6个月） 900g 新西...   \n",
              "244912  100012814215  爱他美(Aptamil) 白金致亲中国香港版 婴儿配方奶粉1段（0-6个月） 900g 新西...   \n",
              "60512   100012814215  爱他美(Aptamil) 白金致亲中国香港版 婴儿配方奶粉1段（0-6个月） 900g 新西...   \n",
              "77513   100012814215  爱他美(Aptamil) 白金致亲中国香港版 婴儿配方奶粉1段（0-6个月） 900g 新西...   \n",
              "152208  100012814215  爱他美(Aptamil) 白金致亲中国香港版 婴儿配方奶粉1段（0-6个月） 900g 新西...   \n",
              "57883   100012814215  爱他美(Aptamil) 白金致亲中国香港版 婴儿配方奶粉1段（0-6个月） 900g 新西...   \n",
              "150105  100012814215  爱他美(Aptamil) 白金致亲中国香港版 婴儿配方奶粉1段（0-6个月） 900g 新西...   \n",
              "6268    100012814215  爱他美(Aptamil) 白金致亲中国香港版 婴儿配方奶粉1段（0-6个月） 900g 新西...   \n",
              "\n",
              "        total_comment_num   date_key  \n",
              "232818              532.0 2022-01-01  \n",
              "226544              500.0 2022-01-04  \n",
              "244912              500.0 2022-01-11  \n",
              "60512               500.0 2022-01-17  \n",
              "77513               500.0 2022-01-23  \n",
              "152208              500.0 2022-01-30  \n",
              "57883               500.0 2022-02-06  \n",
              "150105              500.0 2022-02-16  \n",
              "6268               1000.0 2022-02-22  "
            ],
            "text/html": [
              "\n",
              "  <div id=\"df-25331b42-097c-40af-ae8f-7a21504fed8d\">\n",
              "    <div class=\"colab-df-container\">\n",
              "      <div>\n",
              "<style scoped>\n",
              "    .dataframe tbody tr th:only-of-type {\n",
              "        vertical-align: middle;\n",
              "    }\n",
              "\n",
              "    .dataframe tbody tr th {\n",
              "        vertical-align: top;\n",
              "    }\n",
              "\n",
              "    .dataframe thead th {\n",
              "        text-align: right;\n",
              "    }\n",
              "</style>\n",
              "<table border=\"1\" class=\"dataframe\">\n",
              "  <thead>\n",
              "    <tr style=\"text-align: right;\">\n",
              "      <th></th>\n",
              "      <th>sku</th>\n",
              "      <th>product_name</th>\n",
              "      <th>total_comment_num</th>\n",
              "      <th>date_key</th>\n",
              "    </tr>\n",
              "  </thead>\n",
              "  <tbody>\n",
              "    <tr>\n",
              "      <th>232818</th>\n",
              "      <td>100012814215</td>\n",
              "      <td>爱他美(Aptamil) 白金致亲中国香港版 婴儿配方奶粉1段（0-6个月） 900g 新西...</td>\n",
              "      <td>532.0</td>\n",
              "      <td>2022-01-01</td>\n",
              "    </tr>\n",
              "    <tr>\n",
              "      <th>226544</th>\n",
              "      <td>100012814215</td>\n",
              "      <td>爱他美(Aptamil) 白金致亲中国香港版 婴儿配方奶粉1段（0-6个月） 900g 新西...</td>\n",
              "      <td>500.0</td>\n",
              "      <td>2022-01-04</td>\n",
              "    </tr>\n",
              "    <tr>\n",
              "      <th>244912</th>\n",
              "      <td>100012814215</td>\n",
              "      <td>爱他美(Aptamil) 白金致亲中国香港版 婴儿配方奶粉1段（0-6个月） 900g 新西...</td>\n",
              "      <td>500.0</td>\n",
              "      <td>2022-01-11</td>\n",
              "    </tr>\n",
              "    <tr>\n",
              "      <th>60512</th>\n",
              "      <td>100012814215</td>\n",
              "      <td>爱他美(Aptamil) 白金致亲中国香港版 婴儿配方奶粉1段（0-6个月） 900g 新西...</td>\n",
              "      <td>500.0</td>\n",
              "      <td>2022-01-17</td>\n",
              "    </tr>\n",
              "    <tr>\n",
              "      <th>77513</th>\n",
              "      <td>100012814215</td>\n",
              "      <td>爱他美(Aptamil) 白金致亲中国香港版 婴儿配方奶粉1段（0-6个月） 900g 新西...</td>\n",
              "      <td>500.0</td>\n",
              "      <td>2022-01-23</td>\n",
              "    </tr>\n",
              "    <tr>\n",
              "      <th>152208</th>\n",
              "      <td>100012814215</td>\n",
              "      <td>爱他美(Aptamil) 白金致亲中国香港版 婴儿配方奶粉1段（0-6个月） 900g 新西...</td>\n",
              "      <td>500.0</td>\n",
              "      <td>2022-01-30</td>\n",
              "    </tr>\n",
              "    <tr>\n",
              "      <th>57883</th>\n",
              "      <td>100012814215</td>\n",
              "      <td>爱他美(Aptamil) 白金致亲中国香港版 婴儿配方奶粉1段（0-6个月） 900g 新西...</td>\n",
              "      <td>500.0</td>\n",
              "      <td>2022-02-06</td>\n",
              "    </tr>\n",
              "    <tr>\n",
              "      <th>150105</th>\n",
              "      <td>100012814215</td>\n",
              "      <td>爱他美(Aptamil) 白金致亲中国香港版 婴儿配方奶粉1段（0-6个月） 900g 新西...</td>\n",
              "      <td>500.0</td>\n",
              "      <td>2022-02-16</td>\n",
              "    </tr>\n",
              "    <tr>\n",
              "      <th>6268</th>\n",
              "      <td>100012814215</td>\n",
              "      <td>爱他美(Aptamil) 白金致亲中国香港版 婴儿配方奶粉1段（0-6个月） 900g 新西...</td>\n",
              "      <td>1000.0</td>\n",
              "      <td>2022-02-22</td>\n",
              "    </tr>\n",
              "  </tbody>\n",
              "</table>\n",
              "</div>\n",
              "      <button class=\"colab-df-convert\" onclick=\"convertToInteractive('df-25331b42-097c-40af-ae8f-7a21504fed8d')\"\n",
              "              title=\"Convert this dataframe to an interactive table.\"\n",
              "              style=\"display:none;\">\n",
              "        \n",
              "  <svg xmlns=\"http://www.w3.org/2000/svg\" height=\"24px\"viewBox=\"0 0 24 24\"\n",
              "       width=\"24px\">\n",
              "    <path d=\"M0 0h24v24H0V0z\" fill=\"none\"/>\n",
              "    <path d=\"M18.56 5.44l.94 2.06.94-2.06 2.06-.94-2.06-.94-.94-2.06-.94 2.06-2.06.94zm-11 1L8.5 8.5l.94-2.06 2.06-.94-2.06-.94L8.5 2.5l-.94 2.06-2.06.94zm10 10l.94 2.06.94-2.06 2.06-.94-2.06-.94-.94-2.06-.94 2.06-2.06.94z\"/><path d=\"M17.41 7.96l-1.37-1.37c-.4-.4-.92-.59-1.43-.59-.52 0-1.04.2-1.43.59L10.3 9.45l-7.72 7.72c-.78.78-.78 2.05 0 2.83L4 21.41c.39.39.9.59 1.41.59.51 0 1.02-.2 1.41-.59l7.78-7.78 2.81-2.81c.8-.78.8-2.07 0-2.86zM5.41 20L4 18.59l7.72-7.72 1.47 1.35L5.41 20z\"/>\n",
              "  </svg>\n",
              "      </button>\n",
              "      \n",
              "  <style>\n",
              "    .colab-df-container {\n",
              "      display:flex;\n",
              "      flex-wrap:wrap;\n",
              "      gap: 12px;\n",
              "    }\n",
              "\n",
              "    .colab-df-convert {\n",
              "      background-color: #E8F0FE;\n",
              "      border: none;\n",
              "      border-radius: 50%;\n",
              "      cursor: pointer;\n",
              "      display: none;\n",
              "      fill: #1967D2;\n",
              "      height: 32px;\n",
              "      padding: 0 0 0 0;\n",
              "      width: 32px;\n",
              "    }\n",
              "\n",
              "    .colab-df-convert:hover {\n",
              "      background-color: #E2EBFA;\n",
              "      box-shadow: 0px 1px 2px rgba(60, 64, 67, 0.3), 0px 1px 3px 1px rgba(60, 64, 67, 0.15);\n",
              "      fill: #174EA6;\n",
              "    }\n",
              "\n",
              "    [theme=dark] .colab-df-convert {\n",
              "      background-color: #3B4455;\n",
              "      fill: #D2E3FC;\n",
              "    }\n",
              "\n",
              "    [theme=dark] .colab-df-convert:hover {\n",
              "      background-color: #434B5C;\n",
              "      box-shadow: 0px 1px 3px 1px rgba(0, 0, 0, 0.15);\n",
              "      filter: drop-shadow(0px 1px 2px rgba(0, 0, 0, 0.3));\n",
              "      fill: #FFFFFF;\n",
              "    }\n",
              "  </style>\n",
              "\n",
              "      <script>\n",
              "        const buttonEl =\n",
              "          document.querySelector('#df-25331b42-097c-40af-ae8f-7a21504fed8d button.colab-df-convert');\n",
              "        buttonEl.style.display =\n",
              "          google.colab.kernel.accessAllowed ? 'block' : 'none';\n",
              "\n",
              "        async function convertToInteractive(key) {\n",
              "          const element = document.querySelector('#df-25331b42-097c-40af-ae8f-7a21504fed8d');\n",
              "          const dataTable =\n",
              "            await google.colab.kernel.invokeFunction('convertToInteractive',\n",
              "                                                     [key], {});\n",
              "          if (!dataTable) return;\n",
              "\n",
              "          const docLinkHtml = 'Like what you see? Visit the ' +\n",
              "            '<a target=\"_blank\" href=https://colab.research.google.com/notebooks/data_table.ipynb>data table notebook</a>'\n",
              "            + ' to learn more about interactive tables.';\n",
              "          element.innerHTML = '';\n",
              "          dataTable['output_type'] = 'display_data';\n",
              "          await google.colab.output.renderOutput(dataTable, element);\n",
              "          const docLink = document.createElement('div');\n",
              "          docLink.innerHTML = docLinkHtml;\n",
              "          element.appendChild(docLink);\n",
              "        }\n",
              "      </script>\n",
              "    </div>\n",
              "  </div>\n",
              "  "
            ]
          },
          "metadata": {},
          "execution_count": 200
        }
      ]
    },
    {
      "cell_type": "code",
      "source": [
        "plt.style.use(\"seaborn\")\n",
        "fig = plt.figure(figsize=(11,9))\n",
        "ax = fig.add_subplot(1,1,1) \n",
        "ax.set_xlabel ('Date and Time')\n",
        "ax.set_ylabel ('Total Comments')\n",
        "ax.set_title (\"Date vs Comment\")\n",
        "ax.plot(sku_df1['date_key'], sku_df1['total_comment_num'], marker='o')"
      ],
      "metadata": {
        "colab": {
          "base_uri": "https://localhost:8080/",
          "height": 583
        },
        "id": "OMg8ELyFFpsd",
        "outputId": "cf34d1ec-f379-4e01-cfe2-47ebd3327b3f"
      },
      "execution_count": 201,
      "outputs": [
        {
          "output_type": "execute_result",
          "data": {
            "text/plain": [
              "[<matplotlib.lines.Line2D at 0x7fc37b01a210>]"
            ]
          },
          "metadata": {},
          "execution_count": 201
        },
        {
          "output_type": "display_data",
          "data": {
            "text/plain": [
              "<Figure size 792x648 with 1 Axes>"
            ],
            "image/png": "[encoded data removed]"
          },
          "metadata": {}
        }
      ]
    },
    {
      "cell_type": "code",
      "source": [
        "plt.plot(sku_df1['date_key'], sku_df1['total_comment_num'], 'o', color='black');"
      ],
      "metadata": {
        "colab": {
          "base_uri": "https://localhost:8080/",
          "height": 347
        },
        "id": "LvXVhNieFzMS",
        "outputId": "9f659cce-9c4b-4c96-bbc6-8d7e8873787d"
      },
      "execution_count": 194,
      "outputs": [
        {
          "output_type": "display_data",
          "data": {
            "text/plain": [
              "<Figure size 576x396 with 1 Axes>"
            ],
            "image/png": "[encoded data removed]"
          },
          "metadata": {}
        }
      ]
    },
    {
      "cell_type": "markdown",
      "source": [
        "**SKU02**"
      ],
      "metadata": {
        "id": "Jiyb343EGJpE"
      }
    },
    {
      "cell_type": "code",
      "source": [
        "sku_df2 = x_data1.loc[(x_data1['sku'] == sku_uq[2])]\n",
        "sku_df2.sort_values(by = 'date_key')"
      ],
      "metadata": {
        "colab": {
          "base_uri": "https://localhost:8080/",
          "height": 143
        },
        "id": "WlH3mVjiF99A",
        "outputId": "18903fc3-4ae7-4d7d-bfdb-ac78ab6d7e0e"
      },
      "execution_count": 196,
      "outputs": [
        {
          "output_type": "execute_result",
          "data": {
            "text/plain": [
              "                sku                           product_name  total_comment_num  \\\n",
              "119223  46175092891  美赞臣蓝臻3段幼儿配方奶粉乳铁蛋白荷兰原装进口第二代 820g*6罐整箱装             3826.0   \n",
              "130053  46175092891  美赞臣蓝臻3段幼儿配方奶粉乳铁蛋白荷兰原装进口第二代 820g*6罐整箱装             2000.0   \n",
              "794     46175092891  美赞臣蓝臻3段幼儿配方奶粉乳铁蛋白荷兰原装进口第二代 820g*6罐整箱装             2000.0   \n",
              "\n",
              "         date_key  \n",
              "119223 2022-01-01  \n",
              "130053 2022-01-16  \n",
              "794    2022-01-23  "
            ],
            "text/html": [
              "\n",
              "  <div id=\"df-68626f00-8077-4fd5-9406-78bc3ce2ecbb\">\n",
              "    <div class=\"colab-df-container\">\n",
              "      <div>\n",
              "<style scoped>\n",
              "    .dataframe tbody tr th:only-of-type {\n",
              "        vertical-align: middle;\n",
              "    }\n",
              "\n",
              "    .dataframe tbody tr th {\n",
              "        vertical-align: top;\n",
              "    }\n",
              "\n",
              "    .dataframe thead th {\n",
              "        text-align: right;\n",
              "    }\n",
              "</style>\n",
              "<table border=\"1\" class=\"dataframe\">\n",
              "  <thead>\n",
              "    <tr style=\"text-align: right;\">\n",
              "      <th></th>\n",
              "      <th>sku</th>\n",
              "      <th>product_name</th>\n",
              "      <th>total_comment_num</th>\n",
              "      <th>date_key</th>\n",
              "    </tr>\n",
              "  </thead>\n",
              "  <tbody>\n",
              "    <tr>\n",
              "      <th>119223</th>\n",
              "      <td>46175092891</td>\n",
              "      <td>美赞臣蓝臻3段幼儿配方奶粉乳铁蛋白荷兰原装进口第二代 820g*6罐整箱装</td>\n",
              "      <td>3826.0</td>\n",
              "      <td>2022-01-01</td>\n",
              "    </tr>\n",
              "    <tr>\n",
              "      <th>130053</th>\n",
              "      <td>46175092891</td>\n",
              "      <td>美赞臣蓝臻3段幼儿配方奶粉乳铁蛋白荷兰原装进口第二代 820g*6罐整箱装</td>\n",
              "      <td>2000.0</td>\n",
              "      <td>2022-01-16</td>\n",
              "    </tr>\n",
              "    <tr>\n",
              "      <th>794</th>\n",
              "      <td>46175092891</td>\n",
              "      <td>美赞臣蓝臻3段幼儿配方奶粉乳铁蛋白荷兰原装进口第二代 820g*6罐整箱装</td>\n",
              "      <td>2000.0</td>\n",
              "      <td>2022-01-23</td>\n",
              "    </tr>\n",
              "  </tbody>\n",
              "</table>\n",
              "</div>\n",
              "      <button class=\"colab-df-convert\" onclick=\"convertToInteractive('df-68626f00-8077-4fd5-9406-78bc3ce2ecbb')\"\n",
              "              title=\"Convert this dataframe to an interactive table.\"\n",
              "              style=\"display:none;\">\n",
              "        \n",
              "  <svg xmlns=\"http://www.w3.org/2000/svg\" height=\"24px\"viewBox=\"0 0 24 24\"\n",
              "       width=\"24px\">\n",
              "    <path d=\"M0 0h24v24H0V0z\" fill=\"none\"/>\n",
              "    <path d=\"M18.56 5.44l.94 2.06.94-2.06 2.06-.94-2.06-.94-.94-2.06-.94 2.06-2.06.94zm-11 1L8.5 8.5l.94-2.06 2.06-.94-2.06-.94L8.5 2.5l-.94 2.06-2.06.94zm10 10l.94 2.06.94-2.06 2.06-.94-2.06-.94-.94-2.06-.94 2.06-2.06.94z\"/><path d=\"M17.41 7.96l-1.37-1.37c-.4-.4-.92-.59-1.43-.59-.52 0-1.04.2-1.43.59L10.3 9.45l-7.72 7.72c-.78.78-.78 2.05 0 2.83L4 21.41c.39.39.9.59 1.41.59.51 0 1.02-.2 1.41-.59l7.78-7.78 2.81-2.81c.8-.78.8-2.07 0-2.86zM5.41 20L4 18.59l7.72-7.72 1.47 1.35L5.41 20z\"/>\n",
              "  </svg>\n",
              "      </button>\n",
              "      \n",
              "  <style>\n",
              "    .colab-df-container {\n",
              "      display:flex;\n",
              "      flex-wrap:wrap;\n",
              "      gap: 12px;\n",
              "    }\n",
              "\n",
              "    .colab-df-convert {\n",
              "      background-color: #E8F0FE;\n",
              "      border: none;\n",
              "      border-radius: 50%;\n",
              "      cursor: pointer;\n",
              "      display: none;\n",
              "      fill: #1967D2;\n",
              "      height: 32px;\n",
              "      padding: 0 0 0 0;\n",
              "      width: 32px;\n",
              "    }\n",
              "\n",
              "    .colab-df-convert:hover {\n",
              "      background-color: #E2EBFA;\n",
              "      box-shadow: 0px 1px 2px rgba(60, 64, 67, 0.3), 0px 1px 3px 1px rgba(60, 64, 67, 0.15);\n",
              "      fill: #174EA6;\n",
              "    }\n",
              "\n",
              "    [theme=dark] .colab-df-convert {\n",
              "      background-color: #3B4455;\n",
              "      fill: #D2E3FC;\n",
              "    }\n",
              "\n",
              "    [theme=dark] .colab-df-convert:hover {\n",
              "      background-color: #434B5C;\n",
              "      box-shadow: 0px 1px 3px 1px rgba(0, 0, 0, 0.15);\n",
              "      filter: drop-shadow(0px 1px 2px rgba(0, 0, 0, 0.3));\n",
              "      fill: #FFFFFF;\n",
              "    }\n",
              "  </style>\n",
              "\n",
              "      <script>\n",
              "        const buttonEl =\n",
              "          document.querySelector('#df-68626f00-8077-4fd5-9406-78bc3ce2ecbb button.colab-df-convert');\n",
              "        buttonEl.style.display =\n",
              "          google.colab.kernel.accessAllowed ? 'block' : 'none';\n",
              "\n",
              "        async function convertToInteractive(key) {\n",
              "          const element = document.querySelector('#df-68626f00-8077-4fd5-9406-78bc3ce2ecbb');\n",
              "          const dataTable =\n",
              "            await google.colab.kernel.invokeFunction('convertToInteractive',\n",
              "                                                     [key], {});\n",
              "          if (!dataTable) return;\n",
              "\n",
              "          const docLinkHtml = 'Like what you see? Visit the ' +\n",
              "            '<a target=\"_blank\" href=https://colab.research.google.com/notebooks/data_table.ipynb>data table notebook</a>'\n",
              "            + ' to learn more about interactive tables.';\n",
              "          element.innerHTML = '';\n",
              "          dataTable['output_type'] = 'display_data';\n",
              "          await google.colab.output.renderOutput(dataTable, element);\n",
              "          const docLink = document.createElement('div');\n",
              "          docLink.innerHTML = docLinkHtml;\n",
              "          element.appendChild(docLink);\n",
              "        }\n",
              "      </script>\n",
              "    </div>\n",
              "  </div>\n",
              "  "
            ]
          },
          "metadata": {},
          "execution_count": 196
        }
      ]
    },
    {
      "cell_type": "code",
      "source": [
        "plt.style.use(\"seaborn\")\n",
        "fig = plt.figure(figsize=(11,9))\n",
        "ax = fig.add_subplot(1,1,1) \n",
        "ax.set_xlabel ('Date and Time')\n",
        "ax.set_ylabel ('Total Comments')\n",
        "ax.set_title (\"Date vs Comment\")\n",
        "ax.plot(sku_df2['date_key'], sku_df2['total_comment_num'], marker='o')"
      ],
      "metadata": {
        "colab": {
          "base_uri": "https://localhost:8080/",
          "height": 583
        },
        "id": "YC-vnbsVGO5X",
        "outputId": "cd732403-7120-462b-f5de-2e58ff7befd9"
      },
      "execution_count": 203,
      "outputs": [
        {
          "output_type": "execute_result",
          "data": {
            "text/plain": [
              "[<matplotlib.lines.Line2D at 0x7fc37afd4bd0>]"
            ]
          },
          "metadata": {},
          "execution_count": 203
        },
        {
          "output_type": "display_data",
          "data": {
            "text/plain": [
              "<Figure size 792x648 with 1 Axes>"
            ],
            "image/png": "[encoded data removed]"
          },
          "metadata": {}
        }
      ]
    },
    {
      "cell_type": "markdown",
      "source": [
        "**SKU03**"
      ],
      "metadata": {
        "id": "Hv99drQDMZr0"
      }
    },
    {
      "cell_type": "code",
      "source": [
        "sku_df3 = x_data1.loc[(x_data1['sku'] == sku_uq[3])]\n",
        "sku_df3.sort_values(by = 'date_key')"
      ],
      "metadata": {
        "colab": {
          "base_uri": "https://localhost:8080/",
          "height": 237
        },
        "id": "79OzpEgDGVfq",
        "outputId": "86e24502-e583-4198-a510-0c7f12df7b3a"
      },
      "execution_count": 202,
      "outputs": [
        {
          "output_type": "execute_result",
          "data": {
            "text/plain": [
              "                sku                                       product_name  \\\n",
              "174934  10386355720  【领券下单 现货速发】伊利金领冠奶粉珍护900克婴幼儿 儿童配方奶粉 3段900g*6罐【2...   \n",
              "74909   10386355720  【领券下单 现货速发】伊利金领冠奶粉珍护900克婴幼儿 儿童配方奶粉 3段900g*6罐【2...   \n",
              "15590   10386355720  【领券下单 现货速发】伊利金领冠奶粉珍护900克婴幼儿 儿童配方奶粉 3段900g*6罐【2...   \n",
              "252146  10386355720  【领券下单 现货速发】伊利金领冠奶粉珍护900克婴幼儿 儿童配方奶粉 3段900g*6罐【2...   \n",
              "78519   10386355720  【领券下单 现货速发】伊利金领冠奶粉珍护900克婴幼儿 儿童配方奶粉 3段900g*6罐【2...   \n",
              "256108  10386355720  【领券下单 现货速发】伊利金领冠奶粉珍护900克婴幼儿 儿童配方奶粉 3段900g*6罐【2...   \n",
              "\n",
              "        total_comment_num   date_key  \n",
              "174934             1009.0 2022-01-01  \n",
              "74909              1000.0 2022-01-17  \n",
              "15590              1000.0 2022-01-24  \n",
              "252146             1000.0 2022-01-30  \n",
              "78519              1000.0 2022-02-07  \n",
              "256108             1000.0 2022-02-16  "
            ],
            "text/html": [
              "\n",
              "  <div id=\"df-692b489a-94b9-4b6c-9ba7-31df3b9df856\">\n",
              "    <div class=\"colab-df-container\">\n",
              "      <div>\n",
              "<style scoped>\n",
              "    .dataframe tbody tr th:only-of-type {\n",
              "        vertical-align: middle;\n",
              "    }\n",
              "\n",
              "    .dataframe tbody tr th {\n",
              "        vertical-align: top;\n",
              "    }\n",
              "\n",
              "    .dataframe thead th {\n",
              "        text-align: right;\n",
              "    }\n",
              "</style>\n",
              "<table border=\"1\" class=\"dataframe\">\n",
              "  <thead>\n",
              "    <tr style=\"text-align: right;\">\n",
              "      <th></th>\n",
              "      <th>sku</th>\n",
              "      <th>product_name</th>\n",
              "      <th>total_comment_num</th>\n",
              "      <th>date_key</th>\n",
              "    </tr>\n",
              "  </thead>\n",
              "  <tbody>\n",
              "    <tr>\n",
              "      <th>174934</th>\n",
              "      <td>10386355720</td>\n",
              "      <td>【领券下单 现货速发】伊利金领冠奶粉珍护900克婴幼儿 儿童配方奶粉 3段900g*6罐【2...</td>\n",
              "      <td>1009.0</td>\n",
              "      <td>2022-01-01</td>\n",
              "    </tr>\n",
              "    <tr>\n",
              "      <th>74909</th>\n",
              "      <td>10386355720</td>\n",
              "      <td>【领券下单 现货速发】伊利金领冠奶粉珍护900克婴幼儿 儿童配方奶粉 3段900g*6罐【2...</td>\n",
              "      <td>1000.0</td>\n",
              "      <td>2022-01-17</td>\n",
              "    </tr>\n",
              "    <tr>\n",
              "      <th>15590</th>\n",
              "      <td>10386355720</td>\n",
              "      <td>【领券下单 现货速发】伊利金领冠奶粉珍护900克婴幼儿 儿童配方奶粉 3段900g*6罐【2...</td>\n",
              "      <td>1000.0</td>\n",
              "      <td>2022-01-24</td>\n",
              "    </tr>\n",
              "    <tr>\n",
              "      <th>252146</th>\n",
              "      <td>10386355720</td>\n",
              "      <td>【领券下单 现货速发】伊利金领冠奶粉珍护900克婴幼儿 儿童配方奶粉 3段900g*6罐【2...</td>\n",
              "      <td>1000.0</td>\n",
              "      <td>2022-01-30</td>\n",
              "    </tr>\n",
              "    <tr>\n",
              "      <th>78519</th>\n",
              "      <td>10386355720</td>\n",
              "      <td>【领券下单 现货速发】伊利金领冠奶粉珍护900克婴幼儿 儿童配方奶粉 3段900g*6罐【2...</td>\n",
              "      <td>1000.0</td>\n",
              "      <td>2022-02-07</td>\n",
              "    </tr>\n",
              "    <tr>\n",
              "      <th>256108</th>\n",
              "      <td>10386355720</td>\n",
              "      <td>【领券下单 现货速发】伊利金领冠奶粉珍护900克婴幼儿 儿童配方奶粉 3段900g*6罐【2...</td>\n",
              "      <td>1000.0</td>\n",
              "      <td>2022-02-16</td>\n",
              "    </tr>\n",
              "  </tbody>\n",
              "</table>\n",
              "</div>\n",
              "      <button class=\"colab-df-convert\" onclick=\"convertToInteractive('df-692b489a-94b9-4b6c-9ba7-31df3b9df856')\"\n",
              "              title=\"Convert this dataframe to an interactive table.\"\n",
              "              style=\"display:none;\">\n",
              "        \n",
              "  <svg xmlns=\"http://www.w3.org/2000/svg\" height=\"24px\"viewBox=\"0 0 24 24\"\n",
              "       width=\"24px\">\n",
              "    <path d=\"M0 0h24v24H0V0z\" fill=\"none\"/>\n",
              "    <path d=\"M18.56 5.44l.94 2.06.94-2.06 2.06-.94-2.06-.94-.94-2.06-.94 2.06-2.06.94zm-11 1L8.5 8.5l.94-2.06 2.06-.94-2.06-.94L8.5 2.5l-.94 2.06-2.06.94zm10 10l.94 2.06.94-2.06 2.06-.94-2.06-.94-.94-2.06-.94 2.06-2.06.94z\"/><path d=\"M17.41 7.96l-1.37-1.37c-.4-.4-.92-.59-1.43-.59-.52 0-1.04.2-1.43.59L10.3 9.45l-7.72 7.72c-.78.78-.78 2.05 0 2.83L4 21.41c.39.39.9.59 1.41.59.51 0 1.02-.2 1.41-.59l7.78-7.78 2.81-2.81c.8-.78.8-2.07 0-2.86zM5.41 20L4 18.59l7.72-7.72 1.47 1.35L5.41 20z\"/>\n",
              "  </svg>\n",
              "      </button>\n",
              "      \n",
              "  <style>\n",
              "    .colab-df-container {\n",
              "      display:flex;\n",
              "      flex-wrap:wrap;\n",
              "      gap: 12px;\n",
              "    }\n",
              "\n",
              "    .colab-df-convert {\n",
              "      background-color: #E8F0FE;\n",
              "      border: none;\n",
              "      border-radius: 50%;\n",
              "      cursor: pointer;\n",
              "      display: none;\n",
              "      fill: #1967D2;\n",
              "      height: 32px;\n",
              "      padding: 0 0 0 0;\n",
              "      width: 32px;\n",
              "    }\n",
              "\n",
              "    .colab-df-convert:hover {\n",
              "      background-color: #E2EBFA;\n",
              "      box-shadow: 0px 1px 2px rgba(60, 64, 67, 0.3), 0px 1px 3px 1px rgba(60, 64, 67, 0.15);\n",
              "      fill: #174EA6;\n",
              "    }\n",
              "\n",
              "    [theme=dark] .colab-df-convert {\n",
              "      background-color: #3B4455;\n",
              "      fill: #D2E3FC;\n",
              "    }\n",
              "\n",
              "    [theme=dark] .colab-df-convert:hover {\n",
              "      background-color: #434B5C;\n",
              "      box-shadow: 0px 1px 3px 1px rgba(0, 0, 0, 0.15);\n",
              "      filter: drop-shadow(0px 1px 2px rgba(0, 0, 0, 0.3));\n",
              "      fill: #FFFFFF;\n",
              "    }\n",
              "  </style>\n",
              "\n",
              "      <script>\n",
              "        const buttonEl =\n",
              "          document.querySelector('#df-692b489a-94b9-4b6c-9ba7-31df3b9df856 button.colab-df-convert');\n",
              "        buttonEl.style.display =\n",
              "          google.colab.kernel.accessAllowed ? 'block' : 'none';\n",
              "\n",
              "        async function convertToInteractive(key) {\n",
              "          const element = document.querySelector('#df-692b489a-94b9-4b6c-9ba7-31df3b9df856');\n",
              "          const dataTable =\n",
              "            await google.colab.kernel.invokeFunction('convertToInteractive',\n",
              "                                                     [key], {});\n",
              "          if (!dataTable) return;\n",
              "\n",
              "          const docLinkHtml = 'Like what you see? Visit the ' +\n",
              "            '<a target=\"_blank\" href=https://colab.research.google.com/notebooks/data_table.ipynb>data table notebook</a>'\n",
              "            + ' to learn more about interactive tables.';\n",
              "          element.innerHTML = '';\n",
              "          dataTable['output_type'] = 'display_data';\n",
              "          await google.colab.output.renderOutput(dataTable, element);\n",
              "          const docLink = document.createElement('div');\n",
              "          docLink.innerHTML = docLinkHtml;\n",
              "          element.appendChild(docLink);\n",
              "        }\n",
              "      </script>\n",
              "    </div>\n",
              "  </div>\n",
              "  "
            ]
          },
          "metadata": {},
          "execution_count": 202
        }
      ]
    },
    {
      "cell_type": "code",
      "source": [
        "plt.style.use(\"seaborn\")\n",
        "fig = plt.figure(figsize=(11,9))\n",
        "ax = fig.add_subplot(1,1,1) \n",
        "ax.set_xlabel ('Date and Time')\n",
        "ax.set_ylabel ('Total Comments')\n",
        "ax.set_title (\"Manhattan, NY 5-minute accumulated precip associated with the remnants of Hurricane Ida\")\n",
        "ax.plot(sku_df3['date_key'], sku_df3['total_comment_num'], marker='o')"
      ],
      "metadata": {
        "colab": {
          "base_uri": "https://localhost:8080/",
          "height": 583
        },
        "id": "psd717QBMcTE",
        "outputId": "32e6c7e1-e50b-4491-8420-0923d2df3599"
      },
      "execution_count": 204,
      "outputs": [
        {
          "output_type": "execute_result",
          "data": {
            "text/plain": [
              "[<matplotlib.lines.Line2D at 0x7fc37aeee910>]"
            ]
          },
          "metadata": {},
          "execution_count": 204
        },
        {
          "output_type": "display_data",
          "data": {
            "text/plain": [
              "<Figure size 792x648 with 1 Axes>"
            ],
            "image/png": "[encoded data removed]"
          },
          "metadata": {}
        }
      ]
    },
    {
      "cell_type": "code",
      "source": [
        ""
      ],
      "metadata": {
        "id": "bipUa62CO7pI"
      },
      "execution_count": null,
      "outputs": []
    }
  ]
}