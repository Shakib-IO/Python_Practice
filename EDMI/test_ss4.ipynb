{
  "nbformat": 4,
  "nbformat_minor": 0,
  "metadata": {
    "colab": {
      "name": "test_ss4.ipynb",
      "provenance": []
    },
    "kernelspec": {
      "name": "python3",
      "display_name": "Python 3"
    },
    "language_info": {
      "name": "python"
    }
  },
  "cells": [
    {
      "cell_type": "code",
      "execution_count": 1,
      "metadata": {
        "colab": {
          "base_uri": "https://localhost:8080/"
        },
        "id": "u12-0Fov8AkU",
        "outputId": "eeec119a-1ef2-48f8-f758-01cde1d34c01"
      },
      "outputs": [
        {
          "output_type": "stream",
          "name": "stdout",
          "text": [
            "Mounted at /content/drive\n"
          ]
        }
      ],
      "source": [
        "from google.colab import drive\n",
        "drive.mount('/content/drive')"
      ]
    },
    {
      "cell_type": "code",
      "source": [
        "import pandas as pd"
      ],
      "metadata": {
        "id": "dVE_A7YV8Lko"
      },
      "execution_count": 2,
      "outputs": []
    },
    {
      "cell_type": "code",
      "source": [
        "# Read Dataset\n",
        "dfx1 = pd.read_excel(\"/content/drive/MyDrive/EDMI/compsaa_file2_20200101_20200630.xlsx\")\n",
        "dfx2 = pd.read_excel(\"/content/drive/MyDrive/EDMI/compsaa_file2_20200701_20201231.xlsx\")\n",
        "dfx3 = pd.read_excel(\"/content/drive/MyDrive/EDMI/compsaa_file2_20210101_20210630.xlsx\")\n",
        "dfx4 = pd.read_excel(\"/content/drive/MyDrive/EDMI/compsaa_file2_20210701_20211231.xlsx\")\n",
        "dfx5 = pd.read_excel(\"/content/drive/MyDrive/EDMI/compsaa_file2_20220101_20220228.xlsx\")"
      ],
      "metadata": {
        "colab": {
          "base_uri": "https://localhost:8080/"
        },
        "id": "WyfQK-gz8Zl-",
        "outputId": "5832e37d-824f-43b8-cab4-3e6dbab5aede"
      },
      "execution_count": 3,
      "outputs": [
        {
          "output_type": "stream",
          "name": "stderr",
          "text": [
            "/usr/local/lib/python3.7/dist-packages/openpyxl/styles/stylesheet.py:226: UserWarning: Workbook contains no default style, apply openpyxl's default\n",
            "  warn(\"Workbook contains no default style, apply openpyxl's default\")\n"
          ]
        }
      ]
    },
    {
      "cell_type": "code",
      "source": [
        "# Get the values where total_comment_num is NaN | 0\n",
        "dfx1_nocom = dfx1[(dfx1['total_comment_num'].isna()) | (dfx1['total_comment_num'] == 0.0)]\n",
        "dfx2_nocom = dfx2[(dfx2['total_comment_num'].isna()) | (dfx2['total_comment_num'] == 0.0)]\n",
        "dfx3_nocom = dfx3[(dfx3['total_comment_num'].isna()) | (dfx3['total_comment_num'] == 0.0)]\n",
        "dfx4_nocom = dfx4[(dfx4['total_comment_num'].isna()) | (dfx4['total_comment_num'] == 0.0)]\n",
        "dfx5_nocom = dfx5[(dfx5['total_comment_num'].isna()) | (dfx5['total_comment_num'] == 0.0)]"
      ],
      "metadata": {
        "id": "zlr10BP_8qfQ"
      },
      "execution_count": 4,
      "outputs": []
    },
    {
      "cell_type": "code",
      "source": [
        "# dfx1\n",
        "# Get the following values for all 5 datasets\n",
        "skus = set(dfx1['sku'])\n",
        "skus_nan = set(dfx1_nocom['sku'])\n",
        "skus_no_nan = skus - skus_nan\n",
        "print(len(skus), len(skus_nan), len(skus_no_nan)) # Need these values"
      ],
      "metadata": {
        "colab": {
          "base_uri": "https://localhost:8080/"
        },
        "id": "zRp5ukRh82sD",
        "outputId": "bfd8e7a9-4d4b-40db-c6c2-50748e70067f"
      },
      "execution_count": 5,
      "outputs": [
        {
          "output_type": "stream",
          "name": "stdout",
          "text": [
            "56362 56258 104\n"
          ]
        }
      ]
    },
    {
      "cell_type": "code",
      "source": [
        "# dfx2\n",
        "# Get the following values for all 5 datasets\n",
        "skus = set(dfx2['sku'])\n",
        "skus_nan = set(dfx2_nocom['sku'])\n",
        "skus_no_nan = skus - skus_nan\n",
        "print(len(skus), len(skus_nan), len(skus_no_nan)) # Need these values"
      ],
      "metadata": {
        "colab": {
          "base_uri": "https://localhost:8080/"
        },
        "id": "0t6zVhVs8496",
        "outputId": "8783db6f-93aa-46dd-e878-d7b0ba6b1f74"
      },
      "execution_count": 6,
      "outputs": [
        {
          "output_type": "stream",
          "name": "stdout",
          "text": [
            "106323 103442 2881\n"
          ]
        }
      ]
    },
    {
      "cell_type": "code",
      "source": [
        "# dfx3\n",
        "# Get the following values for all 5 datasets\n",
        "skus = set(dfx3['sku'])\n",
        "skus_nan = set(dfx3_nocom['sku'])\n",
        "skus_no_nan = skus - skus_nan\n",
        "print(len(skus), len(skus_nan), len(skus_no_nan)) # Need these values"
      ],
      "metadata": {
        "colab": {
          "base_uri": "https://localhost:8080/"
        },
        "id": "fZ4PuX3285Zh",
        "outputId": "58791a95-2d0a-4b33-b6fb-13194c7a7bbb"
      },
      "execution_count": 7,
      "outputs": [
        {
          "output_type": "stream",
          "name": "stdout",
          "text": [
            "56683 56146 537\n"
          ]
        }
      ]
    },
    {
      "cell_type": "code",
      "source": [
        "# dfx4\n",
        "# Get the following values for all 5 datasets\n",
        "skus = set(dfx4['sku'])\n",
        "skus_nan = set(dfx4_nocom['sku'])\n",
        "skus_no_nan = skus - skus_nan\n",
        "print(len(skus), len(skus_nan), len(skus_no_nan)) # Need these values"
      ],
      "metadata": {
        "colab": {
          "base_uri": "https://localhost:8080/"
        },
        "id": "jMWefgWm85zj",
        "outputId": "87abf573-35d1-4650-a2ec-b2a790aa92c6"
      },
      "execution_count": 8,
      "outputs": [
        {
          "output_type": "stream",
          "name": "stdout",
          "text": [
            "62174 61649 525\n"
          ]
        }
      ]
    },
    {
      "cell_type": "code",
      "source": [
        "# dfx5\n",
        "# Get the following values for all 5 datasets\n",
        "skus = set(dfx5['sku'])\n",
        "skus_nan = set(dfx5_nocom['sku'])\n",
        "skus_no_nan = skus - skus_nan\n",
        "print(len(skus), len(skus_nan), len(skus_no_nan)) # Need these values"
      ],
      "metadata": {
        "colab": {
          "base_uri": "https://localhost:8080/"
        },
        "id": "8OV3DDZw86IZ",
        "outputId": "3c8da9b9-d06c-4649-c885-8a00efd01876"
      },
      "execution_count": 9,
      "outputs": [
        {
          "output_type": "stream",
          "name": "stdout",
          "text": [
            "32693 31913 780\n"
          ]
        }
      ]
    }
  ]
}